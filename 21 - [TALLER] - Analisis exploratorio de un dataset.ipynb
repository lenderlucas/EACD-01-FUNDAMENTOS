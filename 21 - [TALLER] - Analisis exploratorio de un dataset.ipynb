{
  "cells": [
    {
      "cell_type": "markdown",
      "metadata": {
        "id": "view-in-github",
        "colab_type": "text"
      },
      "source": [
        "<a href=\"https://colab.research.google.com/github/lenderlucas/EACD-01-FUNDAMENTOS/blob/master/21%20-%20%5BTALLER%5D%20-%20Analisis%20exploratorio%20de%20un%20dataset.ipynb\" target=\"_parent\"><img src=\"https://colab.research.google.com/assets/colab-badge.svg\" alt=\"Open In Colab\"/></a>"
      ]
    },
    {
      "cell_type": "code",
      "execution_count": 2,
      "metadata": {
        "id": "Ps7p2qfzcvFp",
        "outputId": "ba2076dc-f67a-4f7c-cefc-730502a61875",
        "colab": {
          "base_uri": "https://localhost:8080/"
        }
      },
      "outputs": [
        {
          "output_type": "stream",
          "name": "stdout",
          "text": [
            "replicating local resources\n"
          ]
        }
      ],
      "source": [
        "!wget --no-cache -O init.py -q https://raw.githubusercontent.com/UDEA-Esp-Analitica-y-Ciencia-de-Datos/EACD-01-FUNDAMENTOS/master/init.py\n",
        "import init; init.init(force_download=False); "
      ]
    },
    {
      "cell_type": "markdown",
      "metadata": {
        "id": "P80RO34bKbXv"
      },
      "source": [
        "# Precios de Casas\n",
        "\n",
        "El objetivo de este taller es realizar un análisis exploratorio de un dataset. El dataset no llega limpio, el proceso de limpieza se encuentra implementado. Después de este proceso de limpieza se debe llevar a cabo el análisis exploratorio."
      ]
    },
    {
      "cell_type": "code",
      "execution_count": 3,
      "metadata": {
        "id": "YhtRl2YjNLdO"
      },
      "outputs": [],
      "source": [
        "from collections import Counter, defaultdict\n",
        "\n",
        "import numpy as np\n",
        "import pandas as pd\n",
        "import matplotlib.pyplot as plt"
      ]
    },
    {
      "cell_type": "markdown",
      "metadata": {
        "id": "u9IWXk8a9kPm"
      },
      "source": [
        "## Entendiendo y limpiando el dataset"
      ]
    },
    {
      "cell_type": "markdown",
      "metadata": {
        "id": "fb20wBwEMtyz"
      },
      "source": [
        "La descripcion de cada variable puede verse ejecutando la siguiente celda"
      ]
    },
    {
      "cell_type": "code",
      "execution_count": 4,
      "metadata": {
        "colab": {
          "base_uri": "https://localhost:8080/"
        },
        "id": "0kSyRhzkLq9D",
        "outputId": "9f29cc25-d5dc-4a59-ca79-82924a915a1c"
      },
      "outputs": [
        {
          "output_type": "stream",
          "name": "stdout",
          "text": [
            "MSSubClass: Identifies the type of dwelling involved in the sale.\t\n",
            "\n",
            "        20\t1-STORY 1946 & NEWER ALL STYLES\n",
            "        30\t1-STORY 1945 & OLDER\n",
            "        40\t1-STORY W/FINISHED ATTIC ALL AGES\n",
            "        45\t1-1/2 STORY - UNFINISHED ALL AGES\n",
            "        50\t1-1/2 STORY FINISHED ALL AGES\n",
            "        60\t2-STORY 1946 & NEWER\n",
            "        70\t2-STORY 1945 & OLDER\n",
            "        75\t2-1/2 STORY ALL AGES\n",
            "        80\tSPLIT OR MULTI-LEVEL\n",
            "        85\tSPLIT FOYER\n",
            "        90\tDUPLEX - ALL STYLES AND AGES\n",
            "       120\t1-STORY PUD (Planned Unit Development) - 1946 & NEWER\n",
            "       150\t1-1/2 STORY PUD - ALL AGES\n",
            "       160\t2-STORY PUD - 1946 & NEWER\n",
            "       180\tPUD - MULTILEVEL - INCL SPLIT LEV/FOYER\n",
            "       190\t2 FAMILY CONVERSION - ALL STYLES AND AGES\n",
            "\n",
            "MSZoning: Identifies the general zoning classification of the sale.\n",
            "\t\t\n",
            "       A\tAgriculture\n",
            "       C\tCommercial\n",
            "       FV\tFloating Village Residential\n",
            "       I\tIndustrial\n",
            "       RH\tResidential High Density\n",
            "       RL\tResidential Low Density\n",
            "       RP\tResidential Low Density Park \n",
            "       RM\tResidential Medium Density\n",
            "\t\n",
            "LotFrontage: Linear feet of street connected to property\n",
            "\n",
            "LotArea: Lot size in square feet\n",
            "\n",
            "Street: Type of road access to property\n",
            "\n",
            "       Grvl\tGravel\t\n",
            "       Pave\tPaved\n",
            "       \t\n",
            "Alley: Type of alley access to property\n",
            "\n",
            "       Grvl\tGravel\n",
            "       Pave\tPaved\n",
            "       NA \tNo alley access\n",
            "\t\t\n",
            "LotShape: General shape of property\n",
            "\n",
            "       Reg\tRegular\t\n",
            "       IR1\tSlightly irregular\n",
            "       IR2\tModerately Irregular\n",
            "       IR3\tIrregular\n",
            "       \n",
            "LandContour: Flatness of the property\n",
            "\n",
            "       Lvl\tNear Flat/Level\t\n",
            "       Bnk\tBanked - Quick and significant rise from street grade to building\n",
            "       HLS\tHillside - Significant slope from side to side\n",
            "       Low\tDepression\n",
            "\t\t\n",
            "Utilities: Type of utilities available\n",
            "\t\t\n",
            "       AllPub\tAll public Utilities (E,G,W,& S)\t\n",
            "       NoSewr\tElectricity, Gas, and Water (Septic Tank)\n",
            "       NoSeWa\tElectricity and Gas Only\n",
            "       ELO\tElectricity only\t\n",
            "\t\n",
            "LotConfig: Lot configuration\n",
            "\n",
            "       Inside\tInside lot\n",
            "       Corner\tCorner lot\n",
            "       CulDSac\tCul-de-sac\n",
            "       FR2\tFrontage on 2 sides of property\n",
            "       FR3\tFrontage on 3 sides of property\n",
            "\t\n",
            "LandSlope: Slope of property\n",
            "\t\t\n",
            "       Gtl\tGentle slope\n",
            "       Mod\tModerate Slope\t\n",
            "       Sev\tSevere Slope\n",
            "\t\n",
            "Neighborhood: Physical locations within Ames city limits\n",
            "\n",
            "       Blmngtn\tBloomington Heights\n",
            "       Blueste\tBluestem\n",
            "       BrDale\tBriardale\n",
            "       BrkSide\tBrookside\n",
            "       ClearCr\tClear Creek\n",
            "       CollgCr\tCollege Creek\n",
            "       Crawfor\tCrawford\n",
            "       Edwards\tEdwards\n",
            "       Gilbert\tGilbert\n",
            "       IDOTRR\tIowa DOT and Rail Road\n",
            "       MeadowV\tMeadow Village\n",
            "       Mitchel\tMitchell\n",
            "       Names\tNorth Ames\n",
            "       NoRidge\tNorthridge\n",
            "       NPkVill\tNorthpark Villa\n",
            "       NridgHt\tNorthridge Heights\n",
            "       NWAmes\tNorthwest Ames\n",
            "       OldTown\tOld Town\n",
            "       SWISU\tSouth & West of Iowa State University\n",
            "       Sawyer\tSawyer\n",
            "       SawyerW\tSawyer West\n",
            "       Somerst\tSomerset\n",
            "       StoneBr\tStone Brook\n",
            "       Timber\tTimberland\n",
            "       Veenker\tVeenker\n",
            "\t\t\t\n",
            "Condition1: Proximity to various conditions\n",
            "\t\n",
            "       Artery\tAdjacent to arterial street\n",
            "       Feedr\tAdjacent to feeder street\t\n",
            "       Norm\tNormal\t\n",
            "       RRNn\tWithin 200' of North-South Railroad\n",
            "       RRAn\tAdjacent to North-South Railroad\n",
            "       PosN\tNear positive off-site feature--park, greenbelt, etc.\n",
            "       PosA\tAdjacent to postive off-site feature\n",
            "       RRNe\tWithin 200' of East-West Railroad\n",
            "       RRAe\tAdjacent to East-West Railroad\n",
            "\t\n",
            "Condition2: Proximity to various conditions (if more than one is present)\n",
            "\t\t\n",
            "       Artery\tAdjacent to arterial street\n",
            "       Feedr\tAdjacent to feeder street\t\n",
            "       Norm\tNormal\t\n",
            "       RRNn\tWithin 200' of North-South Railroad\n",
            "       RRAn\tAdjacent to North-South Railroad\n",
            "       PosN\tNear positive off-site feature--park, greenbelt, etc.\n",
            "       PosA\tAdjacent to postive off-site feature\n",
            "       RRNe\tWithin 200' of East-West Railroad\n",
            "       RRAe\tAdjacent to East-West Railroad\n",
            "\t\n",
            "BldgType: Type of dwelling\n",
            "\t\t\n",
            "       1Fam\tSingle-family Detached\t\n",
            "       2FmCon\tTwo-family Conversion; originally built as one-family dwelling\n",
            "       Duplx\tDuplex\n",
            "       TwnhsE\tTownhouse End Unit\n",
            "       TwnhsI\tTownhouse Inside Unit\n",
            "\t\n",
            "HouseStyle: Style of dwelling\n",
            "\t\n",
            "       1Story\tOne story\n",
            "       1.5Fin\tOne and one-half story: 2nd level finished\n",
            "       1.5Unf\tOne and one-half story: 2nd level unfinished\n",
            "       2Story\tTwo story\n",
            "       2.5Fin\tTwo and one-half story: 2nd level finished\n",
            "       2.5Unf\tTwo and one-half story: 2nd level unfinished\n",
            "       SFoyer\tSplit Foyer\n",
            "       SLvl\tSplit Level\n",
            "\t\n",
            "OverallQual: Rates the overall material and finish of the house\n",
            "\n",
            "       10\tVery Excellent\n",
            "       9\tExcellent\n",
            "       8\tVery Good\n",
            "       7\tGood\n",
            "       6\tAbove Average\n",
            "       5\tAverage\n",
            "       4\tBelow Average\n",
            "       3\tFair\n",
            "       2\tPoor\n",
            "       1\tVery Poor\n",
            "\t\n",
            "OverallCond: Rates the overall condition of the house\n",
            "\n",
            "       10\tVery Excellent\n",
            "       9\tExcellent\n",
            "       8\tVery Good\n",
            "       7\tGood\n",
            "       6\tAbove Average\t\n",
            "       5\tAverage\n",
            "       4\tBelow Average\t\n",
            "       3\tFair\n",
            "       2\tPoor\n",
            "       1\tVery Poor\n",
            "\t\t\n",
            "YearBuilt: Original construction date\n",
            "\n",
            "YearRemodAdd: Remodel date (same as construction date if no remodeling or additions)\n",
            "\n",
            "RoofStyle: Type of roof\n",
            "\n",
            "       Flat\tFlat\n",
            "       Gable\tGable\n",
            "       Gambrel\tGabrel (Barn)\n",
            "       Hip\tHip\n",
            "       Mansard\tMansard\n",
            "       Shed\tShed\n",
            "\t\t\n",
            "RoofMatl: Roof material\n",
            "\n",
            "       ClyTile\tClay or Tile\n",
            "       CompShg\tStandard (Composite) Shingle\n",
            "       Membran\tMembrane\n",
            "       Metal\tMetal\n",
            "       Roll\tRoll\n",
            "       Tar&Grv\tGravel & Tar\n",
            "       WdShake\tWood Shakes\n",
            "       WdShngl\tWood Shingles\n",
            "\t\t\n",
            "Exterior1st: Exterior covering on house\n",
            "\n",
            "       AsbShng\tAsbestos Shingles\n",
            "       AsphShn\tAsphalt Shingles\n",
            "       BrkComm\tBrick Common\n",
            "       BrkFace\tBrick Face\n",
            "       CBlock\tCinder Block\n",
            "       CemntBd\tCement Board\n",
            "       HdBoard\tHard Board\n",
            "       ImStucc\tImitation Stucco\n",
            "       MetalSd\tMetal Siding\n",
            "       Other\tOther\n",
            "       Plywood\tPlywood\n",
            "       PreCast\tPreCast\t\n",
            "       Stone\tStone\n",
            "       Stucco\tStucco\n",
            "       VinylSd\tVinyl Siding\n",
            "       Wd Sdng\tWood Siding\n",
            "       WdShing\tWood Shingles\n",
            "\t\n",
            "Exterior2nd: Exterior covering on house (if more than one material)\n",
            "\n",
            "       AsbShng\tAsbestos Shingles\n",
            "       AsphShn\tAsphalt Shingles\n",
            "       BrkComm\tBrick Common\n",
            "       BrkFace\tBrick Face\n",
            "       CBlock\tCinder Block\n",
            "       CemntBd\tCement Board\n",
            "       HdBoard\tHard Board\n",
            "       ImStucc\tImitation Stucco\n",
            "       MetalSd\tMetal Siding\n",
            "       Other\tOther\n",
            "       Plywood\tPlywood\n",
            "       PreCast\tPreCast\n",
            "       Stone\tStone\n",
            "       Stucco\tStucco\n",
            "       VinylSd\tVinyl Siding\n",
            "       Wd Sdng\tWood Siding\n",
            "       WdShing\tWood Shingles\n",
            "\t\n",
            "MasVnrType: Masonry veneer type\n",
            "\n",
            "       BrkCmn\tBrick Common\n",
            "       BrkFace\tBrick Face\n",
            "       CBlock\tCinder Block\n",
            "       None\tNone\n",
            "       Stone\tStone\n",
            "\t\n",
            "MasVnrArea: Masonry veneer area in square feet\n",
            "\n",
            "ExterQual: Evaluates the quality of the material on the exterior \n",
            "\t\t\n",
            "       Ex\tExcellent\n",
            "       Gd\tGood\n",
            "       TA\tAverage/Typical\n",
            "       Fa\tFair\n",
            "       Po\tPoor\n",
            "\t\t\n",
            "ExterCond: Evaluates the present condition of the material on the exterior\n",
            "\t\t\n",
            "       Ex\tExcellent\n",
            "       Gd\tGood\n",
            "       TA\tAverage/Typical\n",
            "       Fa\tFair\n",
            "       Po\tPoor\n",
            "\t\t\n",
            "Foundation: Type of foundation\n",
            "\t\t\n",
            "       BrkTil\tBrick & Tile\n",
            "       CBlock\tCinder Block\n",
            "       PConc\tPoured Contrete\t\n",
            "       Slab\tSlab\n",
            "       Stone\tStone\n",
            "       Wood\tWood\n",
            "\t\t\n",
            "BsmtQual: Evaluates the height of the basement\n",
            "\n",
            "       Ex\tExcellent (100+ inches)\t\n",
            "       Gd\tGood (90-99 inches)\n",
            "       TA\tTypical (80-89 inches)\n",
            "       Fa\tFair (70-79 inches)\n",
            "       Po\tPoor (<70 inches\n",
            "       NA\tNo Basement\n",
            "\t\t\n",
            "BsmtCond: Evaluates the general condition of the basement\n",
            "\n",
            "       Ex\tExcellent\n",
            "       Gd\tGood\n",
            "       TA\tTypical - slight dampness allowed\n",
            "       Fa\tFair - dampness or some cracking or settling\n",
            "       Po\tPoor - Severe cracking, settling, or wetness\n",
            "       NA\tNo Basement\n",
            "\t\n",
            "BsmtExposure: Refers to walkout or garden level walls\n",
            "\n",
            "       Gd\tGood Exposure\n",
            "       Av\tAverage Exposure (split levels or foyers typically score average or above)\t\n",
            "       Mn\tMimimum Exposure\n",
            "       No\tNo Exposure\n",
            "       NA\tNo Basement\n",
            "\t\n",
            "BsmtFinType1: Rating of basement finished area\n",
            "\n",
            "       GLQ\tGood Living Quarters\n",
            "       ALQ\tAverage Living Quarters\n",
            "       BLQ\tBelow Average Living Quarters\t\n",
            "       Rec\tAverage Rec Room\n",
            "       LwQ\tLow Quality\n",
            "       Unf\tUnfinshed\n",
            "       NA\tNo Basement\n",
            "\t\t\n",
            "BsmtFinSF1: Type 1 finished square feet\n",
            "\n",
            "BsmtFinType2: Rating of basement finished area (if multiple types)\n",
            "\n",
            "       GLQ\tGood Living Quarters\n",
            "       ALQ\tAverage Living Quarters\n",
            "       BLQ\tBelow Average Living Quarters\t\n",
            "       Rec\tAverage Rec Room\n",
            "       LwQ\tLow Quality\n",
            "       Unf\tUnfinshed\n",
            "       NA\tNo Basement\n",
            "\n",
            "BsmtFinSF2: Type 2 finished square feet\n",
            "\n",
            "BsmtUnfSF: Unfinished square feet of basement area\n",
            "\n",
            "TotalBsmtSF: Total square feet of basement area\n",
            "\n",
            "Heating: Type of heating\n",
            "\t\t\n",
            "       Floor\tFloor Furnace\n",
            "       GasA\tGas forced warm air furnace\n",
            "       GasW\tGas hot water or steam heat\n",
            "       Grav\tGravity furnace\t\n",
            "       OthW\tHot water or steam heat other than gas\n",
            "       Wall\tWall furnace\n",
            "\t\t\n",
            "HeatingQC: Heating quality and condition\n",
            "\n",
            "       Ex\tExcellent\n",
            "       Gd\tGood\n",
            "       TA\tAverage/Typical\n",
            "       Fa\tFair\n",
            "       Po\tPoor\n",
            "\t\t\n",
            "CentralAir: Central air conditioning\n",
            "\n",
            "       N\tNo\n",
            "       Y\tYes\n",
            "\t\t\n",
            "Electrical: Electrical system\n",
            "\n",
            "       SBrkr\tStandard Circuit Breakers & Romex\n",
            "       FuseA\tFuse Box over 60 AMP and all Romex wiring (Average)\t\n",
            "       FuseF\t60 AMP Fuse Box and mostly Romex wiring (Fair)\n",
            "       FuseP\t60 AMP Fuse Box and mostly knob & tube wiring (poor)\n",
            "       Mix\tMixed\n",
            "\t\t\n",
            "1stFlrSF: First Floor square feet\n",
            " \n",
            "2ndFlrSF: Second floor square feet\n",
            "\n",
            "LowQualFinSF: Low quality finished square feet (all floors)\n",
            "\n",
            "GrLivArea: Above grade (ground) living area square feet\n",
            "\n",
            "BsmtFullBath: Basement full bathrooms\n",
            "\n",
            "BsmtHalfBath: Basement half bathrooms\n",
            "\n",
            "FullBath: Full bathrooms above grade\n",
            "\n",
            "HalfBath: Half baths above grade\n",
            "\n",
            "Bedroom: Bedrooms above grade (does NOT include basement bedrooms)\n",
            "\n",
            "Kitchen: Kitchens above grade\n",
            "\n",
            "KitchenQual: Kitchen quality\n",
            "\n",
            "       Ex\tExcellent\n",
            "       Gd\tGood\n",
            "       TA\tTypical/Average\n",
            "       Fa\tFair\n",
            "       Po\tPoor\n",
            "       \t\n",
            "TotRmsAbvGrd: Total rooms above grade (does not include bathrooms)\n",
            "\n",
            "Functional: Home functionality (Assume typical unless deductions are warranted)\n",
            "\n",
            "       Typ\tTypical Functionality\n",
            "       Min1\tMinor Deductions 1\n",
            "       Min2\tMinor Deductions 2\n",
            "       Mod\tModerate Deductions\n",
            "       Maj1\tMajor Deductions 1\n",
            "       Maj2\tMajor Deductions 2\n",
            "       Sev\tSeverely Damaged\n",
            "       Sal\tSalvage only\n",
            "\t\t\n",
            "Fireplaces: Number of fireplaces\n",
            "\n",
            "FireplaceQu: Fireplace quality\n",
            "\n",
            "       Ex\tExcellent - Exceptional Masonry Fireplace\n",
            "       Gd\tGood - Masonry Fireplace in main level\n",
            "       TA\tAverage - Prefabricated Fireplace in main living area or Masonry Fireplace in basement\n",
            "       Fa\tFair - Prefabricated Fireplace in basement\n",
            "       Po\tPoor - Ben Franklin Stove\n",
            "       NA\tNo Fireplace\n",
            "\t\t\n",
            "GarageType: Garage location\n",
            "\t\t\n",
            "       2Types\tMore than one type of garage\n",
            "       Attchd\tAttached to home\n",
            "       Basment\tBasement Garage\n",
            "       BuiltIn\tBuilt-In (Garage part of house - typically has room above garage)\n",
            "       CarPort\tCar Port\n",
            "       Detchd\tDetached from home\n",
            "       NA\tNo Garage\n",
            "\t\t\n",
            "GarageYrBlt: Year garage was built\n",
            "\t\t\n",
            "GarageFinish: Interior finish of the garage\n",
            "\n",
            "       Fin\tFinished\n",
            "       RFn\tRough Finished\t\n",
            "       Unf\tUnfinished\n",
            "       NA\tNo Garage\n",
            "\t\t\n",
            "GarageCars: Size of garage in car capacity\n",
            "\n",
            "GarageArea: Size of garage in square feet\n",
            "\n",
            "GarageQual: Garage quality\n",
            "\n",
            "       Ex\tExcellent\n",
            "       Gd\tGood\n",
            "       TA\tTypical/Average\n",
            "       Fa\tFair\n",
            "       Po\tPoor\n",
            "       NA\tNo Garage\n",
            "\t\t\n",
            "GarageCond: Garage condition\n",
            "\n",
            "       Ex\tExcellent\n",
            "       Gd\tGood\n",
            "       TA\tTypical/Average\n",
            "       Fa\tFair\n",
            "       Po\tPoor\n",
            "       NA\tNo Garage\n",
            "\t\t\n",
            "PavedDrive: Paved driveway\n",
            "\n",
            "       Y\tPaved \n",
            "       P\tPartial Pavement\n",
            "       N\tDirt/Gravel\n",
            "\t\t\n",
            "WoodDeckSF: Wood deck area in square feet\n",
            "\n",
            "OpenPorchSF: Open porch area in square feet\n",
            "\n",
            "EnclosedPorch: Enclosed porch area in square feet\n",
            "\n",
            "3SsnPorch: Three season porch area in square feet\n",
            "\n",
            "ScreenPorch: Screen porch area in square feet\n",
            "\n",
            "PoolArea: Pool area in square feet\n",
            "\n",
            "PoolQC: Pool quality\n",
            "\t\t\n",
            "       Ex\tExcellent\n",
            "       Gd\tGood\n",
            "       TA\tAverage/Typical\n",
            "       Fa\tFair\n",
            "       NA\tNo Pool\n",
            "\t\t\n",
            "Fence: Fence quality\n",
            "\t\t\n",
            "       GdPrv\tGood Privacy\n",
            "       MnPrv\tMinimum Privacy\n",
            "       GdWo\tGood Wood\n",
            "       MnWw\tMinimum Wood/Wire\n",
            "       NA\tNo Fence\n",
            "\t\n",
            "MiscFeature: Miscellaneous feature not covered in other categories\n",
            "\t\t\n",
            "       Elev\tElevator\n",
            "       Gar2\t2nd Garage (if not described in garage section)\n",
            "       Othr\tOther\n",
            "       Shed\tShed (over 100 SF)\n",
            "       TenC\tTennis Court\n",
            "       NA\tNone\n",
            "\t\t\n",
            "MiscVal: $Value of miscellaneous feature\n",
            "\n",
            "MoSold: Month Sold (MM)\n",
            "\n",
            "YrSold: Year Sold (YYYY)\n",
            "\n",
            "SaleType: Type of sale\n",
            "\t\t\n",
            "       WD \tWarranty Deed - Conventional\n",
            "       CWD\tWarranty Deed - Cash\n",
            "       VWD\tWarranty Deed - VA Loan\n",
            "       New\tHome just constructed and sold\n",
            "       COD\tCourt Officer Deed/Estate\n",
            "       Con\tContract 15% Down payment regular terms\n",
            "       ConLw\tContract Low Down payment and low interest\n",
            "       ConLI\tContract Low Interest\n",
            "       ConLD\tContract Low Down\n",
            "       Oth\tOther\n",
            "\t\t\n",
            "SaleCondition: Condition of sale\n",
            "\n",
            "       Normal\tNormal Sale\n",
            "       Abnorml\tAbnormal Sale -  trade, foreclosure, short sale\n",
            "       AdjLand\tAdjoining Land Purchase\n",
            "       Alloca\tAllocation - two linked properties with separate deeds, typically condo with a garage unit\t\n",
            "       Family\tSale between family members\n",
            "       Partial\tHome was not completed when last assessed (associated with New Homes)\n"
          ]
        }
      ],
      "source": [
        "!cat local/data/houseprices_description.txt"
      ]
    },
    {
      "cell_type": "markdown",
      "metadata": {
        "id": "JbDdVYa3Nn04"
      },
      "source": [
        "Ahora carguemos los datos y hagamos una breve exploración"
      ]
    },
    {
      "cell_type": "code",
      "execution_count": 5,
      "metadata": {
        "colab": {
          "base_uri": "https://localhost:8080/",
          "height": 300
        },
        "id": "jPj6gcfjMov6",
        "outputId": "2f470c8e-3dac-47a5-f151-e9e80bdb1058"
      },
      "outputs": [
        {
          "output_type": "execute_result",
          "data": {
            "text/plain": [
              "   Id  MSSubClass MSZoning  LotFrontage  LotArea Street Alley LotShape  \\\n",
              "0   1          60       RL         65.0     8450   Pave   NaN      Reg   \n",
              "1   2          20       RL         80.0     9600   Pave   NaN      Reg   \n",
              "2   3          60       RL         68.0    11250   Pave   NaN      IR1   \n",
              "3   4          70       RL         60.0     9550   Pave   NaN      IR1   \n",
              "4   5          60       RL         84.0    14260   Pave   NaN      IR1   \n",
              "\n",
              "  LandContour Utilities  ... PoolArea PoolQC Fence MiscFeature MiscVal MoSold  \\\n",
              "0         Lvl    AllPub  ...        0    NaN   NaN         NaN       0      2   \n",
              "1         Lvl    AllPub  ...        0    NaN   NaN         NaN       0      5   \n",
              "2         Lvl    AllPub  ...        0    NaN   NaN         NaN       0      9   \n",
              "3         Lvl    AllPub  ...        0    NaN   NaN         NaN       0      2   \n",
              "4         Lvl    AllPub  ...        0    NaN   NaN         NaN       0     12   \n",
              "\n",
              "  YrSold  SaleType  SaleCondition  SalePrice  \n",
              "0   2008        WD         Normal     208500  \n",
              "1   2007        WD         Normal     181500  \n",
              "2   2008        WD         Normal     223500  \n",
              "3   2006        WD        Abnorml     140000  \n",
              "4   2008        WD         Normal     250000  \n",
              "\n",
              "[5 rows x 81 columns]"
            ],
            "text/html": [
              "\n",
              "  <div id=\"df-86fce48d-fb1b-49ff-97e9-0d1fa6ced661\">\n",
              "    <div class=\"colab-df-container\">\n",
              "      <div>\n",
              "<style scoped>\n",
              "    .dataframe tbody tr th:only-of-type {\n",
              "        vertical-align: middle;\n",
              "    }\n",
              "\n",
              "    .dataframe tbody tr th {\n",
              "        vertical-align: top;\n",
              "    }\n",
              "\n",
              "    .dataframe thead th {\n",
              "        text-align: right;\n",
              "    }\n",
              "</style>\n",
              "<table border=\"1\" class=\"dataframe\">\n",
              "  <thead>\n",
              "    <tr style=\"text-align: right;\">\n",
              "      <th></th>\n",
              "      <th>Id</th>\n",
              "      <th>MSSubClass</th>\n",
              "      <th>MSZoning</th>\n",
              "      <th>LotFrontage</th>\n",
              "      <th>LotArea</th>\n",
              "      <th>Street</th>\n",
              "      <th>Alley</th>\n",
              "      <th>LotShape</th>\n",
              "      <th>LandContour</th>\n",
              "      <th>Utilities</th>\n",
              "      <th>...</th>\n",
              "      <th>PoolArea</th>\n",
              "      <th>PoolQC</th>\n",
              "      <th>Fence</th>\n",
              "      <th>MiscFeature</th>\n",
              "      <th>MiscVal</th>\n",
              "      <th>MoSold</th>\n",
              "      <th>YrSold</th>\n",
              "      <th>SaleType</th>\n",
              "      <th>SaleCondition</th>\n",
              "      <th>SalePrice</th>\n",
              "    </tr>\n",
              "  </thead>\n",
              "  <tbody>\n",
              "    <tr>\n",
              "      <th>0</th>\n",
              "      <td>1</td>\n",
              "      <td>60</td>\n",
              "      <td>RL</td>\n",
              "      <td>65.0</td>\n",
              "      <td>8450</td>\n",
              "      <td>Pave</td>\n",
              "      <td>NaN</td>\n",
              "      <td>Reg</td>\n",
              "      <td>Lvl</td>\n",
              "      <td>AllPub</td>\n",
              "      <td>...</td>\n",
              "      <td>0</td>\n",
              "      <td>NaN</td>\n",
              "      <td>NaN</td>\n",
              "      <td>NaN</td>\n",
              "      <td>0</td>\n",
              "      <td>2</td>\n",
              "      <td>2008</td>\n",
              "      <td>WD</td>\n",
              "      <td>Normal</td>\n",
              "      <td>208500</td>\n",
              "    </tr>\n",
              "    <tr>\n",
              "      <th>1</th>\n",
              "      <td>2</td>\n",
              "      <td>20</td>\n",
              "      <td>RL</td>\n",
              "      <td>80.0</td>\n",
              "      <td>9600</td>\n",
              "      <td>Pave</td>\n",
              "      <td>NaN</td>\n",
              "      <td>Reg</td>\n",
              "      <td>Lvl</td>\n",
              "      <td>AllPub</td>\n",
              "      <td>...</td>\n",
              "      <td>0</td>\n",
              "      <td>NaN</td>\n",
              "      <td>NaN</td>\n",
              "      <td>NaN</td>\n",
              "      <td>0</td>\n",
              "      <td>5</td>\n",
              "      <td>2007</td>\n",
              "      <td>WD</td>\n",
              "      <td>Normal</td>\n",
              "      <td>181500</td>\n",
              "    </tr>\n",
              "    <tr>\n",
              "      <th>2</th>\n",
              "      <td>3</td>\n",
              "      <td>60</td>\n",
              "      <td>RL</td>\n",
              "      <td>68.0</td>\n",
              "      <td>11250</td>\n",
              "      <td>Pave</td>\n",
              "      <td>NaN</td>\n",
              "      <td>IR1</td>\n",
              "      <td>Lvl</td>\n",
              "      <td>AllPub</td>\n",
              "      <td>...</td>\n",
              "      <td>0</td>\n",
              "      <td>NaN</td>\n",
              "      <td>NaN</td>\n",
              "      <td>NaN</td>\n",
              "      <td>0</td>\n",
              "      <td>9</td>\n",
              "      <td>2008</td>\n",
              "      <td>WD</td>\n",
              "      <td>Normal</td>\n",
              "      <td>223500</td>\n",
              "    </tr>\n",
              "    <tr>\n",
              "      <th>3</th>\n",
              "      <td>4</td>\n",
              "      <td>70</td>\n",
              "      <td>RL</td>\n",
              "      <td>60.0</td>\n",
              "      <td>9550</td>\n",
              "      <td>Pave</td>\n",
              "      <td>NaN</td>\n",
              "      <td>IR1</td>\n",
              "      <td>Lvl</td>\n",
              "      <td>AllPub</td>\n",
              "      <td>...</td>\n",
              "      <td>0</td>\n",
              "      <td>NaN</td>\n",
              "      <td>NaN</td>\n",
              "      <td>NaN</td>\n",
              "      <td>0</td>\n",
              "      <td>2</td>\n",
              "      <td>2006</td>\n",
              "      <td>WD</td>\n",
              "      <td>Abnorml</td>\n",
              "      <td>140000</td>\n",
              "    </tr>\n",
              "    <tr>\n",
              "      <th>4</th>\n",
              "      <td>5</td>\n",
              "      <td>60</td>\n",
              "      <td>RL</td>\n",
              "      <td>84.0</td>\n",
              "      <td>14260</td>\n",
              "      <td>Pave</td>\n",
              "      <td>NaN</td>\n",
              "      <td>IR1</td>\n",
              "      <td>Lvl</td>\n",
              "      <td>AllPub</td>\n",
              "      <td>...</td>\n",
              "      <td>0</td>\n",
              "      <td>NaN</td>\n",
              "      <td>NaN</td>\n",
              "      <td>NaN</td>\n",
              "      <td>0</td>\n",
              "      <td>12</td>\n",
              "      <td>2008</td>\n",
              "      <td>WD</td>\n",
              "      <td>Normal</td>\n",
              "      <td>250000</td>\n",
              "    </tr>\n",
              "  </tbody>\n",
              "</table>\n",
              "<p>5 rows × 81 columns</p>\n",
              "</div>\n",
              "      <button class=\"colab-df-convert\" onclick=\"convertToInteractive('df-86fce48d-fb1b-49ff-97e9-0d1fa6ced661')\"\n",
              "              title=\"Convert this dataframe to an interactive table.\"\n",
              "              style=\"display:none;\">\n",
              "        \n",
              "  <svg xmlns=\"http://www.w3.org/2000/svg\" height=\"24px\"viewBox=\"0 0 24 24\"\n",
              "       width=\"24px\">\n",
              "    <path d=\"M0 0h24v24H0V0z\" fill=\"none\"/>\n",
              "    <path d=\"M18.56 5.44l.94 2.06.94-2.06 2.06-.94-2.06-.94-.94-2.06-.94 2.06-2.06.94zm-11 1L8.5 8.5l.94-2.06 2.06-.94-2.06-.94L8.5 2.5l-.94 2.06-2.06.94zm10 10l.94 2.06.94-2.06 2.06-.94-2.06-.94-.94-2.06-.94 2.06-2.06.94z\"/><path d=\"M17.41 7.96l-1.37-1.37c-.4-.4-.92-.59-1.43-.59-.52 0-1.04.2-1.43.59L10.3 9.45l-7.72 7.72c-.78.78-.78 2.05 0 2.83L4 21.41c.39.39.9.59 1.41.59.51 0 1.02-.2 1.41-.59l7.78-7.78 2.81-2.81c.8-.78.8-2.07 0-2.86zM5.41 20L4 18.59l7.72-7.72 1.47 1.35L5.41 20z\"/>\n",
              "  </svg>\n",
              "      </button>\n",
              "      \n",
              "  <style>\n",
              "    .colab-df-container {\n",
              "      display:flex;\n",
              "      flex-wrap:wrap;\n",
              "      gap: 12px;\n",
              "    }\n",
              "\n",
              "    .colab-df-convert {\n",
              "      background-color: #E8F0FE;\n",
              "      border: none;\n",
              "      border-radius: 50%;\n",
              "      cursor: pointer;\n",
              "      display: none;\n",
              "      fill: #1967D2;\n",
              "      height: 32px;\n",
              "      padding: 0 0 0 0;\n",
              "      width: 32px;\n",
              "    }\n",
              "\n",
              "    .colab-df-convert:hover {\n",
              "      background-color: #E2EBFA;\n",
              "      box-shadow: 0px 1px 2px rgba(60, 64, 67, 0.3), 0px 1px 3px 1px rgba(60, 64, 67, 0.15);\n",
              "      fill: #174EA6;\n",
              "    }\n",
              "\n",
              "    [theme=dark] .colab-df-convert {\n",
              "      background-color: #3B4455;\n",
              "      fill: #D2E3FC;\n",
              "    }\n",
              "\n",
              "    [theme=dark] .colab-df-convert:hover {\n",
              "      background-color: #434B5C;\n",
              "      box-shadow: 0px 1px 3px 1px rgba(0, 0, 0, 0.15);\n",
              "      filter: drop-shadow(0px 1px 2px rgba(0, 0, 0, 0.3));\n",
              "      fill: #FFFFFF;\n",
              "    }\n",
              "  </style>\n",
              "\n",
              "      <script>\n",
              "        const buttonEl =\n",
              "          document.querySelector('#df-86fce48d-fb1b-49ff-97e9-0d1fa6ced661 button.colab-df-convert');\n",
              "        buttonEl.style.display =\n",
              "          google.colab.kernel.accessAllowed ? 'block' : 'none';\n",
              "\n",
              "        async function convertToInteractive(key) {\n",
              "          const element = document.querySelector('#df-86fce48d-fb1b-49ff-97e9-0d1fa6ced661');\n",
              "          const dataTable =\n",
              "            await google.colab.kernel.invokeFunction('convertToInteractive',\n",
              "                                                     [key], {});\n",
              "          if (!dataTable) return;\n",
              "\n",
              "          const docLinkHtml = 'Like what you see? Visit the ' +\n",
              "            '<a target=\"_blank\" href=https://colab.research.google.com/notebooks/data_table.ipynb>data table notebook</a>'\n",
              "            + ' to learn more about interactive tables.';\n",
              "          element.innerHTML = '';\n",
              "          dataTable['output_type'] = 'display_data';\n",
              "          await google.colab.output.renderOutput(dataTable, element);\n",
              "          const docLink = document.createElement('div');\n",
              "          docLink.innerHTML = docLinkHtml;\n",
              "          element.appendChild(docLink);\n",
              "        }\n",
              "      </script>\n",
              "    </div>\n",
              "  </div>\n",
              "  "
            ]
          },
          "metadata": {},
          "execution_count": 5
        }
      ],
      "source": [
        "df = pd.read_csv(\"local/data/houseprices.csv\")\n",
        "df.head()"
      ]
    },
    {
      "cell_type": "code",
      "execution_count": 6,
      "metadata": {
        "colab": {
          "base_uri": "https://localhost:8080/"
        },
        "id": "Xxsjyk4wOCds",
        "outputId": "13fa60f8-dab3-4b0c-da81-60fa946d471b"
      },
      "outputs": [
        {
          "output_type": "stream",
          "name": "stdout",
          "text": [
            "<class 'pandas.core.frame.DataFrame'>\n",
            "RangeIndex: 1460 entries, 0 to 1459\n",
            "Data columns (total 81 columns):\n",
            " #   Column         Non-Null Count  Dtype  \n",
            "---  ------         --------------  -----  \n",
            " 0   Id             1460 non-null   int64  \n",
            " 1   MSSubClass     1460 non-null   int64  \n",
            " 2   MSZoning       1460 non-null   object \n",
            " 3   LotFrontage    1201 non-null   float64\n",
            " 4   LotArea        1460 non-null   int64  \n",
            " 5   Street         1460 non-null   object \n",
            " 6   Alley          91 non-null     object \n",
            " 7   LotShape       1460 non-null   object \n",
            " 8   LandContour    1460 non-null   object \n",
            " 9   Utilities      1460 non-null   object \n",
            " 10  LotConfig      1460 non-null   object \n",
            " 11  LandSlope      1460 non-null   object \n",
            " 12  Neighborhood   1460 non-null   object \n",
            " 13  Condition1     1460 non-null   object \n",
            " 14  Condition2     1460 non-null   object \n",
            " 15  BldgType       1460 non-null   object \n",
            " 16  HouseStyle     1460 non-null   object \n",
            " 17  OverallQual    1460 non-null   int64  \n",
            " 18  OverallCond    1460 non-null   int64  \n",
            " 19  YearBuilt      1460 non-null   int64  \n",
            " 20  YearRemodAdd   1460 non-null   int64  \n",
            " 21  RoofStyle      1460 non-null   object \n",
            " 22  RoofMatl       1460 non-null   object \n",
            " 23  Exterior1st    1460 non-null   object \n",
            " 24  Exterior2nd    1460 non-null   object \n",
            " 25  MasVnrType     1452 non-null   object \n",
            " 26  MasVnrArea     1452 non-null   float64\n",
            " 27  ExterQual      1460 non-null   object \n",
            " 28  ExterCond      1460 non-null   object \n",
            " 29  Foundation     1460 non-null   object \n",
            " 30  BsmtQual       1423 non-null   object \n",
            " 31  BsmtCond       1423 non-null   object \n",
            " 32  BsmtExposure   1422 non-null   object \n",
            " 33  BsmtFinType1   1423 non-null   object \n",
            " 34  BsmtFinSF1     1460 non-null   int64  \n",
            " 35  BsmtFinType2   1422 non-null   object \n",
            " 36  BsmtFinSF2     1460 non-null   int64  \n",
            " 37  BsmtUnfSF      1460 non-null   int64  \n",
            " 38  TotalBsmtSF    1460 non-null   int64  \n",
            " 39  Heating        1460 non-null   object \n",
            " 40  HeatingQC      1460 non-null   object \n",
            " 41  CentralAir     1460 non-null   object \n",
            " 42  Electrical     1459 non-null   object \n",
            " 43  1stFlrSF       1460 non-null   int64  \n",
            " 44  2ndFlrSF       1460 non-null   int64  \n",
            " 45  LowQualFinSF   1460 non-null   int64  \n",
            " 46  GrLivArea      1460 non-null   int64  \n",
            " 47  BsmtFullBath   1460 non-null   int64  \n",
            " 48  BsmtHalfBath   1460 non-null   int64  \n",
            " 49  FullBath       1460 non-null   int64  \n",
            " 50  HalfBath       1460 non-null   int64  \n",
            " 51  BedroomAbvGr   1460 non-null   int64  \n",
            " 52  KitchenAbvGr   1460 non-null   int64  \n",
            " 53  KitchenQual    1460 non-null   object \n",
            " 54  TotRmsAbvGrd   1460 non-null   int64  \n",
            " 55  Functional     1460 non-null   object \n",
            " 56  Fireplaces     1460 non-null   int64  \n",
            " 57  FireplaceQu    770 non-null    object \n",
            " 58  GarageType     1379 non-null   object \n",
            " 59  GarageYrBlt    1379 non-null   float64\n",
            " 60  GarageFinish   1379 non-null   object \n",
            " 61  GarageCars     1460 non-null   int64  \n",
            " 62  GarageArea     1460 non-null   int64  \n",
            " 63  GarageQual     1379 non-null   object \n",
            " 64  GarageCond     1379 non-null   object \n",
            " 65  PavedDrive     1460 non-null   object \n",
            " 66  WoodDeckSF     1460 non-null   int64  \n",
            " 67  OpenPorchSF    1460 non-null   int64  \n",
            " 68  EnclosedPorch  1460 non-null   int64  \n",
            " 69  3SsnPorch      1460 non-null   int64  \n",
            " 70  ScreenPorch    1460 non-null   int64  \n",
            " 71  PoolArea       1460 non-null   int64  \n",
            " 72  PoolQC         7 non-null      object \n",
            " 73  Fence          281 non-null    object \n",
            " 74  MiscFeature    54 non-null     object \n",
            " 75  MiscVal        1460 non-null   int64  \n",
            " 76  MoSold         1460 non-null   int64  \n",
            " 77  YrSold         1460 non-null   int64  \n",
            " 78  SaleType       1460 non-null   object \n",
            " 79  SaleCondition  1460 non-null   object \n",
            " 80  SalePrice      1460 non-null   int64  \n",
            "dtypes: float64(3), int64(35), object(43)\n",
            "memory usage: 924.0+ KB\n"
          ]
        }
      ],
      "source": [
        "df.info()"
      ]
    },
    {
      "cell_type": "markdown",
      "metadata": {
        "id": "xBR58f26OXL0"
      },
      "source": [
        "Podemos ver que hay una gran cantidad de valores nulos en algunas de las variables. Alguien, algo despistado, podría sugerir simplemente eliminar esas variables; sin embargo, la descripción de las variables que observamos anteriormente, nos permite entender la razón de ser de estos valores nulos y tratarlos de una manera inteligente. Por ejemplo, consideremos la variable `PoolQC` la cual nos muestra únicamente 7 valores no nulos de los 1460 registros que tenemos en total. Su descripción dice:\n",
        "\n",
        "```\n",
        "PoolQC: Pool quality\n",
        "\t\t\n",
        "       Ex\tExcellent\n",
        "       Gd\tGood\n",
        "       TA\tAverage/Typical\n",
        "       Fa\tFair\n",
        "       NA\tNo Pool\n",
        "\n",
        "```\n",
        "\n",
        "Esta variable hace referencia a la calidad de la piscina en la casa y vemos que `NA` significa que no tiene piscina, lo cual posiblemente tiene mucho impacto en el precio de una casa (pregúntese, ¿estaría dispuesto a pagar más por una casa que tenga piscina?). Además, vemos que existe la variable `PoolArea`, la cual almacena el area de la piscina en $ft^2$, la cual no tiene valores nulos. Dado esto, los valores nulos de la variable `PoolQC` deben corresponder a casos en los que la variable `PoolArea` es cero; validemos esto."
      ]
    },
    {
      "cell_type": "code",
      "execution_count": 7,
      "metadata": {
        "colab": {
          "base_uri": "https://localhost:8080/"
        },
        "id": "0TngEN0ZOErj",
        "outputId": "5bd79ad4-ed29-4cff-8070-3f3f34e7aa9d"
      },
      "outputs": [
        {
          "output_type": "stream",
          "name": "stdout",
          "text": [
            "1453\n",
            "1453\n"
          ]
        }
      ],
      "source": [
        "num_total_nulls = df[\"PoolQC\"].isna().sum()\n",
        "print(num_total_nulls)\n",
        "num_nulls_when_poolarea_is_zero = df[df[\"PoolArea\"] == 0][\"PoolQC\"].isna().sum()\n",
        "print(num_nulls_when_poolarea_is_zero)\n",
        "assert num_nulls_when_poolarea_is_zero == num_total_nulls"
      ]
    },
    {
      "cell_type": "code",
      "execution_count": 8,
      "metadata": {
        "id": "DW_2Y5ymUOP5"
      },
      "outputs": [],
      "source": [
        "num_nulls_when_poolarea_is_not_zero = df[df[\"PoolArea\"] != 0][\"PoolQC\"].isna().sum()\n",
        "assert num_nulls_when_poolarea_is_not_zero == 0"
      ]
    },
    {
      "cell_type": "markdown",
      "metadata": {
        "id": "DgkQclATUNAG"
      },
      "source": [
        "Concluimos que se cumple que todos los valores nulos de la variable `PoolQC` corresponden a casos en los que no hay piscina; por lo tanto, vamos a reemplzar los valores nulos por otro valor que podamos usar en nuestros modelos."
      ]
    },
    {
      "cell_type": "code",
      "execution_count": 9,
      "metadata": {
        "id": "1TSyn60ZTM36"
      },
      "outputs": [],
      "source": [
        "df[\"PoolQC\"] = df[\"PoolQC\"].fillna(\"NP\")"
      ]
    },
    {
      "cell_type": "markdown",
      "metadata": {
        "id": "5rGVRp33VN9K"
      },
      "source": [
        "Esta misma lógica debemos usarla a la hora de tratar el resto de las variables con valores nulos de este dataset. Escribiremos algún razonamiento addiconal únicamente cuando haga falta"
      ]
    },
    {
      "cell_type": "code",
      "execution_count": 10,
      "metadata": {
        "id": "B8371m6ROtFt"
      },
      "outputs": [],
      "source": [
        "num_total_nulls = df[\"MiscFeature\"].isna().sum()\n",
        "num_nulls_when_miscval_is_zero = df[df[\"MiscVal\"] == 0][\"MiscFeature\"].isna().sum()\n",
        "num_nulls_when_miscval_is_not_zero = df[df[\"MiscVal\"] != 0][\"MiscFeature\"].isna().sum()\n",
        "assert num_nulls_when_miscval_is_zero == num_total_nulls\n",
        "assert num_nulls_when_miscval_is_not_zero == 0\n",
        "df[\"MiscFeature\"] = df[\"MiscFeature\"].fillna(\"No MF\")"
      ]
    },
    {
      "cell_type": "code",
      "execution_count": 11,
      "metadata": {
        "id": "Y3y_32mdVFQa"
      },
      "outputs": [],
      "source": [
        "num_total_nulls = df[\"FireplaceQu\"].isna().sum()\n",
        "num_nulls_when_fireplaces_is_zero = df[df[\"Fireplaces\"] == 0][\"FireplaceQu\"].isna().sum()\n",
        "num_nulls_when_fireplaces_is_not_zero = df[df[\"Fireplaces\"] != 0][\"FireplaceQu\"].isna().sum()\n",
        "assert num_nulls_when_fireplaces_is_zero == num_total_nulls\n",
        "assert num_nulls_when_fireplaces_is_not_zero == 0\n",
        "df[\"FireplaceQu\"] = df[\"FireplaceQu\"].fillna(\"No FP\")"
      ]
    },
    {
      "cell_type": "code",
      "execution_count": 12,
      "metadata": {
        "id": "UBdEhbnKg_Hp"
      },
      "outputs": [],
      "source": [
        "num_area_zeros = (df[\"GarageArea\"] == 0).sum()\n",
        "num_cars_zeros = (df[\"GarageCars\"] == 0).sum()\n",
        "num_both_zeros = ((df[\"GarageArea\"] == 0) & (df[\"GarageCars\"] == 0.0)).sum()\n",
        "assert num_both_zeros == num_area_zeros == num_cars_zeros\n",
        "for colname in [\"GarageType\", \"GarageFinish\", \"GarageQual\", \"GarageCond\"]:\n",
        "    num_total_nulls = df[colname].isna().sum()\n",
        "    num_nulls_when_area_and_cars_capacity_is_zero = df[(df[\"GarageArea\"] == 0.0) & (df[\"GarageCars\"] == 0.0)][colname].isna().sum()\n",
        "    num_nulls_when_area_and_cars_capacity_is_not_zero = df[(df[\"GarageArea\"] != 0.0) & (df[\"GarageCars\"] != 0.0)][colname].isna().sum()\n",
        "    assert num_total_nulls == num_nulls_when_area_and_cars_capacity_is_zero\n",
        "    assert num_nulls_when_area_and_cars_capacity_is_not_zero == 0\n",
        "    df[colname] = df[colname].fillna(\"No Ga\")"
      ]
    },
    {
      "cell_type": "markdown",
      "metadata": {
        "id": "fTKtnYWYobec"
      },
      "source": [
        "Para la variable `GarageYrBlt` debemos ser más cuidadosos, ya que son números y no strings. Esta variable nos dice el año en que fue construido el garaje y, según lo visto con otras variables relacionadas al garage, los valores nulos corresponden a casos en los que no hay garage. En este caso, vamos a imputar esa variable con un año posterior a la fecha de venta. Esta aproximación podría no funcionar muy bien con modelos lineales, o cuando escalamos los datos, pero no se me ocurre otra!"
      ]
    },
    {
      "cell_type": "code",
      "execution_count": 13,
      "metadata": {
        "id": "3cXIi8swyJP6"
      },
      "outputs": [],
      "source": [
        "num_total_nulls = df[\"GarageYrBlt\"].isna().sum()\n",
        "num_nulls_when_area_and_cars_is_zero = df[(df[\"GarageArea\"] == 0.0) & (df[\"GarageCars\"] == 0.0)][\"GarageYrBlt\"].isna().sum()\n",
        "num_nulls_when_area_and_cars_is_not_zero = df[(df[\"GarageArea\"] != 0.0) & (df[\"GarageCars\"] != 0.0)][\"GarageYrBlt\"].isna().sum()\n",
        "assert num_nulls_when_area_and_cars_is_zero == num_total_nulls\n",
        "assert num_nulls_when_area_and_cars_is_not_zero == 0\n",
        "df[\"GarageYrBlt\"].where(~df[\"GarageYrBlt\"].isna(), other=df[\"YrSold\"] + 1, inplace=True)"
      ]
    },
    {
      "cell_type": "markdown",
      "metadata": {
        "id": "v5DBb0qFkAOG"
      },
      "source": [
        "`LotFrontage: Linear feet of street connected to property)`\n",
        "\n",
        "Valores nulos en esta variable podrían ser ocasionados porque sencillamente no hay conexión de la calle a la propiedad, es decir, que esa longitud medida por esta variable es igual a 0. Podemos asumir que este es el caso únicamente si no hay otro 0 en los valores que ha tomado esta variable, de otra manera ¿por qué algunos tendrían 0 y otros nulos?"
      ]
    },
    {
      "cell_type": "code",
      "execution_count": 14,
      "metadata": {
        "id": "vWAnSTMwjZXj"
      },
      "outputs": [],
      "source": [
        "assert (df[\"LotFrontage\"] == 0).sum() == 0\n",
        "df[\"LotFrontage\"].fillna(0, inplace=True)"
      ]
    },
    {
      "cell_type": "code",
      "execution_count": 15,
      "metadata": {
        "id": "d692yK8tjekd"
      },
      "outputs": [],
      "source": [
        "df[\"Alley\"].fillna(\"NA\", inplace=True)\n",
        "df[\"Fence\"].fillna(\"NF\", inplace=True)"
      ]
    },
    {
      "cell_type": "markdown",
      "metadata": {
        "id": "3m4ZgXKhuCMX"
      },
      "source": [
        "```\n",
        "MasVnrType: Masonry veneer type\n",
        "\n",
        "       BrkCmn\tBrick Common\n",
        "       BrkFace\tBrick Face\n",
        "       CBlock\tCinder Block\n",
        "       None\tNone\n",
        "       Stone\tStone\n",
        "\t\n",
        "MasVnrArea: Masonry veneer area in square feet\n",
        "```\n",
        "\n",
        "Una posibilidad es que los valores nulos de `MasVnrType` y `MasVnrArea` correspondan a casos en los que no hay \"Masonry veneer\" (chapa de albañilería). Esto sería en los casos en que la variable `MasVnrArea` sea 0, esto lo validaremos de la misma manera en que validamos con la variable `LotFrontage`."
      ]
    },
    {
      "cell_type": "code",
      "execution_count": 16,
      "metadata": {
        "colab": {
          "base_uri": "https://localhost:8080/",
          "height": 165
        },
        "id": "dAkHHEVEvl1w",
        "outputId": "c11e5c43-7a45-4fd5-fce2-629c19910f0a"
      },
      "outputs": [
        {
          "output_type": "error",
          "ename": "AssertionError",
          "evalue": "ignored",
          "traceback": [
            "\u001b[0;31m---------------------------------------------------------------------------\u001b[0m",
            "\u001b[0;31mAssertionError\u001b[0m                            Traceback (most recent call last)",
            "\u001b[0;32m<ipython-input-16-5626198b0285>\u001b[0m in \u001b[0;36m<module>\u001b[0;34m\u001b[0m\n\u001b[0;32m----> 1\u001b[0;31m \u001b[0;32massert\u001b[0m \u001b[0;34m(\u001b[0m\u001b[0mdf\u001b[0m\u001b[0;34m[\u001b[0m\u001b[0;34m\"MasVnrArea\"\u001b[0m\u001b[0;34m]\u001b[0m \u001b[0;34m==\u001b[0m \u001b[0;36m0\u001b[0m\u001b[0;34m)\u001b[0m\u001b[0;34m.\u001b[0m\u001b[0msum\u001b[0m\u001b[0;34m(\u001b[0m\u001b[0;34m)\u001b[0m \u001b[0;34m==\u001b[0m \u001b[0mdf\u001b[0m\u001b[0;34m[\u001b[0m\u001b[0;34m\"MasVnrType\"\u001b[0m\u001b[0;34m]\u001b[0m\u001b[0;34m.\u001b[0m\u001b[0misnull\u001b[0m\u001b[0;34m(\u001b[0m\u001b[0;34m)\u001b[0m\u001b[0;34m.\u001b[0m\u001b[0msum\u001b[0m\u001b[0;34m(\u001b[0m\u001b[0;34m)\u001b[0m\u001b[0;34m\u001b[0m\u001b[0;34m\u001b[0m\u001b[0m\n\u001b[0m",
            "\u001b[0;31mAssertionError\u001b[0m: "
          ]
        }
      ],
      "source": [
        "assert (df[\"MasVnrArea\"] == 0).sum() == df[\"MasVnrType\"].isnull().sum()"
      ]
    },
    {
      "cell_type": "markdown",
      "metadata": {
        "id": "151AFd1b1UYQ"
      },
      "source": [
        "Acá la situación es diferente, el error anterior nos dice que los casos para los cuales no tenemos área son distintos de los que el tipo es nulo, entonces nos toca inspeccionar más en detalle. Sabemos que hay 8 valores nulos en cada una de las dos variables, miremos si corresponden a los mismos registros:"
      ]
    },
    {
      "cell_type": "code",
      "execution_count": 17,
      "metadata": {
        "colab": {
          "base_uri": "https://localhost:8080/"
        },
        "id": "DYcCiaSy-ZAU",
        "outputId": "e8ff2ba2-1a2a-4159-b7e4-f840822a3708"
      },
      "outputs": [
        {
          "output_type": "execute_result",
          "data": {
            "text/plain": [
              "8"
            ]
          },
          "metadata": {},
          "execution_count": 17
        }
      ],
      "source": [
        "np.logical_and(df[\"MasVnrType\"].isnull().values, df[\"MasVnrArea\"].isnull().values).sum()"
      ]
    },
    {
      "cell_type": "markdown",
      "metadata": {
        "id": "vqLe_ygqASmg"
      },
      "source": [
        "En efecto, dado que hay 8 registros para los cuales las dos variables tienen valores nulos, podemos decir que son nulos en ambas partes. A falta de información, vamos a decidir eliminar esos registros por completo, no debe ser muy grave, pues apenas son 8 filas en todo el dataset."
      ]
    },
    {
      "cell_type": "code",
      "execution_count": 18,
      "metadata": {
        "id": "wLLRHNKoBN-R"
      },
      "outputs": [],
      "source": [
        "df = df.dropna(subset=[\"MasVnrType\", \"MasVnrArea\"])"
      ]
    },
    {
      "cell_type": "markdown",
      "metadata": {
        "id": "OlJ39UjvBX94"
      },
      "source": [
        "Ahora miremos los valores de cada una"
      ]
    },
    {
      "cell_type": "code",
      "execution_count": 19,
      "metadata": {
        "colab": {
          "base_uri": "https://localhost:8080/"
        },
        "id": "7ft1ekaXv2Hi",
        "outputId": "942dc627-3e39-4338-90a2-9c7861dcd613"
      },
      "outputs": [
        {
          "output_type": "execute_result",
          "data": {
            "text/plain": [
              "None       864\n",
              "BrkFace    445\n",
              "Stone      128\n",
              "BrkCmn      15\n",
              "Name: MasVnrType, dtype: int64"
            ]
          },
          "metadata": {},
          "execution_count": 19
        }
      ],
      "source": [
        "df[\"MasVnrType\"].value_counts()"
      ]
    },
    {
      "cell_type": "code",
      "execution_count": 20,
      "metadata": {
        "colab": {
          "base_uri": "https://localhost:8080/"
        },
        "id": "nFgc5hI6s1Xx",
        "outputId": "8537d427-d974-42ed-b66d-d1efa1979c79"
      },
      "outputs": [
        {
          "output_type": "execute_result",
          "data": {
            "text/plain": [
              "0.0      861\n",
              "180.0      8\n",
              "72.0       8\n",
              "108.0      8\n",
              "120.0      7\n",
              "        ... \n",
              "562.0      1\n",
              "89.0       1\n",
              "921.0      1\n",
              "762.0      1\n",
              "119.0      1\n",
              "Name: MasVnrArea, Length: 327, dtype: int64"
            ]
          },
          "metadata": {},
          "execution_count": 20
        }
      ],
      "source": [
        "df[\"MasVnrArea\"].value_counts()"
      ]
    },
    {
      "cell_type": "markdown",
      "metadata": {
        "id": "troBixRt3ZuW"
      },
      "source": [
        "Acá podemos observar lo siguiente:\n",
        "- Hay 864 registros con `MasVnrType=\"None\"`\n",
        "- Hay 861 registros con `MasVnrArea=0`\n",
        "\n",
        "Eso quiere decir que hay algunos registros que deberían tener un área de 0 y no es así. Vamos a mirar en detalle cuáles son:"
      ]
    },
    {
      "cell_type": "code",
      "execution_count": 21,
      "metadata": {
        "colab": {
          "base_uri": "https://localhost:8080/",
          "height": 300
        },
        "id": "Jtp9ehDnu6Tk",
        "outputId": "81b5a4c3-4d09-4a7b-89ae-acc7716d1c56"
      },
      "outputs": [
        {
          "output_type": "execute_result",
          "data": {
            "text/plain": [
              "        Id  MSSubClass MSZoning  LotFrontage  LotArea Street Alley LotShape  \\\n",
              "624    625          60       RL         80.0    10400   Pave    NA      Reg   \n",
              "773    774          20       RL         70.0    10150   Pave    NA      Reg   \n",
              "1230  1231          90       RL          0.0    18890   Pave    NA      IR1   \n",
              "1300  1301          60       RL          0.0    10762   Pave    NA      IR1   \n",
              "1334  1335         160       RM         24.0     2368   Pave    NA      Reg   \n",
              "\n",
              "     LandContour Utilities  ... PoolArea PoolQC Fence MiscFeature MiscVal  \\\n",
              "624          Lvl    AllPub  ...        0     NP    NF       No MF       0   \n",
              "773          Lvl    AllPub  ...        0     NP    NF       No MF       0   \n",
              "1230         Lvl    AllPub  ...        0     NP    NF        Gar2    8300   \n",
              "1300         Lvl    AllPub  ...        0     NP    NF       No MF       0   \n",
              "1334         Lvl    AllPub  ...        0     NP    NF       No MF       0   \n",
              "\n",
              "     MoSold YrSold  SaleType  SaleCondition  SalePrice  \n",
              "624      11   2006        WD         Normal     165150  \n",
              "773       7   2007       COD         Normal     114500  \n",
              "1230      8   2007        WD         Normal     190000  \n",
              "1300      5   2009        WD         Normal     225000  \n",
              "1334      5   2009        WD         Normal     125000  \n",
              "\n",
              "[5 rows x 81 columns]"
            ],
            "text/html": [
              "\n",
              "  <div id=\"df-52d70f87-7756-4871-82a2-56a9398bb41c\">\n",
              "    <div class=\"colab-df-container\">\n",
              "      <div>\n",
              "<style scoped>\n",
              "    .dataframe tbody tr th:only-of-type {\n",
              "        vertical-align: middle;\n",
              "    }\n",
              "\n",
              "    .dataframe tbody tr th {\n",
              "        vertical-align: top;\n",
              "    }\n",
              "\n",
              "    .dataframe thead th {\n",
              "        text-align: right;\n",
              "    }\n",
              "</style>\n",
              "<table border=\"1\" class=\"dataframe\">\n",
              "  <thead>\n",
              "    <tr style=\"text-align: right;\">\n",
              "      <th></th>\n",
              "      <th>Id</th>\n",
              "      <th>MSSubClass</th>\n",
              "      <th>MSZoning</th>\n",
              "      <th>LotFrontage</th>\n",
              "      <th>LotArea</th>\n",
              "      <th>Street</th>\n",
              "      <th>Alley</th>\n",
              "      <th>LotShape</th>\n",
              "      <th>LandContour</th>\n",
              "      <th>Utilities</th>\n",
              "      <th>...</th>\n",
              "      <th>PoolArea</th>\n",
              "      <th>PoolQC</th>\n",
              "      <th>Fence</th>\n",
              "      <th>MiscFeature</th>\n",
              "      <th>MiscVal</th>\n",
              "      <th>MoSold</th>\n",
              "      <th>YrSold</th>\n",
              "      <th>SaleType</th>\n",
              "      <th>SaleCondition</th>\n",
              "      <th>SalePrice</th>\n",
              "    </tr>\n",
              "  </thead>\n",
              "  <tbody>\n",
              "    <tr>\n",
              "      <th>624</th>\n",
              "      <td>625</td>\n",
              "      <td>60</td>\n",
              "      <td>RL</td>\n",
              "      <td>80.0</td>\n",
              "      <td>10400</td>\n",
              "      <td>Pave</td>\n",
              "      <td>NA</td>\n",
              "      <td>Reg</td>\n",
              "      <td>Lvl</td>\n",
              "      <td>AllPub</td>\n",
              "      <td>...</td>\n",
              "      <td>0</td>\n",
              "      <td>NP</td>\n",
              "      <td>NF</td>\n",
              "      <td>No MF</td>\n",
              "      <td>0</td>\n",
              "      <td>11</td>\n",
              "      <td>2006</td>\n",
              "      <td>WD</td>\n",
              "      <td>Normal</td>\n",
              "      <td>165150</td>\n",
              "    </tr>\n",
              "    <tr>\n",
              "      <th>773</th>\n",
              "      <td>774</td>\n",
              "      <td>20</td>\n",
              "      <td>RL</td>\n",
              "      <td>70.0</td>\n",
              "      <td>10150</td>\n",
              "      <td>Pave</td>\n",
              "      <td>NA</td>\n",
              "      <td>Reg</td>\n",
              "      <td>Lvl</td>\n",
              "      <td>AllPub</td>\n",
              "      <td>...</td>\n",
              "      <td>0</td>\n",
              "      <td>NP</td>\n",
              "      <td>NF</td>\n",
              "      <td>No MF</td>\n",
              "      <td>0</td>\n",
              "      <td>7</td>\n",
              "      <td>2007</td>\n",
              "      <td>COD</td>\n",
              "      <td>Normal</td>\n",
              "      <td>114500</td>\n",
              "    </tr>\n",
              "    <tr>\n",
              "      <th>1230</th>\n",
              "      <td>1231</td>\n",
              "      <td>90</td>\n",
              "      <td>RL</td>\n",
              "      <td>0.0</td>\n",
              "      <td>18890</td>\n",
              "      <td>Pave</td>\n",
              "      <td>NA</td>\n",
              "      <td>IR1</td>\n",
              "      <td>Lvl</td>\n",
              "      <td>AllPub</td>\n",
              "      <td>...</td>\n",
              "      <td>0</td>\n",
              "      <td>NP</td>\n",
              "      <td>NF</td>\n",
              "      <td>Gar2</td>\n",
              "      <td>8300</td>\n",
              "      <td>8</td>\n",
              "      <td>2007</td>\n",
              "      <td>WD</td>\n",
              "      <td>Normal</td>\n",
              "      <td>190000</td>\n",
              "    </tr>\n",
              "    <tr>\n",
              "      <th>1300</th>\n",
              "      <td>1301</td>\n",
              "      <td>60</td>\n",
              "      <td>RL</td>\n",
              "      <td>0.0</td>\n",
              "      <td>10762</td>\n",
              "      <td>Pave</td>\n",
              "      <td>NA</td>\n",
              "      <td>IR1</td>\n",
              "      <td>Lvl</td>\n",
              "      <td>AllPub</td>\n",
              "      <td>...</td>\n",
              "      <td>0</td>\n",
              "      <td>NP</td>\n",
              "      <td>NF</td>\n",
              "      <td>No MF</td>\n",
              "      <td>0</td>\n",
              "      <td>5</td>\n",
              "      <td>2009</td>\n",
              "      <td>WD</td>\n",
              "      <td>Normal</td>\n",
              "      <td>225000</td>\n",
              "    </tr>\n",
              "    <tr>\n",
              "      <th>1334</th>\n",
              "      <td>1335</td>\n",
              "      <td>160</td>\n",
              "      <td>RM</td>\n",
              "      <td>24.0</td>\n",
              "      <td>2368</td>\n",
              "      <td>Pave</td>\n",
              "      <td>NA</td>\n",
              "      <td>Reg</td>\n",
              "      <td>Lvl</td>\n",
              "      <td>AllPub</td>\n",
              "      <td>...</td>\n",
              "      <td>0</td>\n",
              "      <td>NP</td>\n",
              "      <td>NF</td>\n",
              "      <td>No MF</td>\n",
              "      <td>0</td>\n",
              "      <td>5</td>\n",
              "      <td>2009</td>\n",
              "      <td>WD</td>\n",
              "      <td>Normal</td>\n",
              "      <td>125000</td>\n",
              "    </tr>\n",
              "  </tbody>\n",
              "</table>\n",
              "<p>5 rows × 81 columns</p>\n",
              "</div>\n",
              "      <button class=\"colab-df-convert\" onclick=\"convertToInteractive('df-52d70f87-7756-4871-82a2-56a9398bb41c')\"\n",
              "              title=\"Convert this dataframe to an interactive table.\"\n",
              "              style=\"display:none;\">\n",
              "        \n",
              "  <svg xmlns=\"http://www.w3.org/2000/svg\" height=\"24px\"viewBox=\"0 0 24 24\"\n",
              "       width=\"24px\">\n",
              "    <path d=\"M0 0h24v24H0V0z\" fill=\"none\"/>\n",
              "    <path d=\"M18.56 5.44l.94 2.06.94-2.06 2.06-.94-2.06-.94-.94-2.06-.94 2.06-2.06.94zm-11 1L8.5 8.5l.94-2.06 2.06-.94-2.06-.94L8.5 2.5l-.94 2.06-2.06.94zm10 10l.94 2.06.94-2.06 2.06-.94-2.06-.94-.94-2.06-.94 2.06-2.06.94z\"/><path d=\"M17.41 7.96l-1.37-1.37c-.4-.4-.92-.59-1.43-.59-.52 0-1.04.2-1.43.59L10.3 9.45l-7.72 7.72c-.78.78-.78 2.05 0 2.83L4 21.41c.39.39.9.59 1.41.59.51 0 1.02-.2 1.41-.59l7.78-7.78 2.81-2.81c.8-.78.8-2.07 0-2.86zM5.41 20L4 18.59l7.72-7.72 1.47 1.35L5.41 20z\"/>\n",
              "  </svg>\n",
              "      </button>\n",
              "      \n",
              "  <style>\n",
              "    .colab-df-container {\n",
              "      display:flex;\n",
              "      flex-wrap:wrap;\n",
              "      gap: 12px;\n",
              "    }\n",
              "\n",
              "    .colab-df-convert {\n",
              "      background-color: #E8F0FE;\n",
              "      border: none;\n",
              "      border-radius: 50%;\n",
              "      cursor: pointer;\n",
              "      display: none;\n",
              "      fill: #1967D2;\n",
              "      height: 32px;\n",
              "      padding: 0 0 0 0;\n",
              "      width: 32px;\n",
              "    }\n",
              "\n",
              "    .colab-df-convert:hover {\n",
              "      background-color: #E2EBFA;\n",
              "      box-shadow: 0px 1px 2px rgba(60, 64, 67, 0.3), 0px 1px 3px 1px rgba(60, 64, 67, 0.15);\n",
              "      fill: #174EA6;\n",
              "    }\n",
              "\n",
              "    [theme=dark] .colab-df-convert {\n",
              "      background-color: #3B4455;\n",
              "      fill: #D2E3FC;\n",
              "    }\n",
              "\n",
              "    [theme=dark] .colab-df-convert:hover {\n",
              "      background-color: #434B5C;\n",
              "      box-shadow: 0px 1px 3px 1px rgba(0, 0, 0, 0.15);\n",
              "      filter: drop-shadow(0px 1px 2px rgba(0, 0, 0, 0.3));\n",
              "      fill: #FFFFFF;\n",
              "    }\n",
              "  </style>\n",
              "\n",
              "      <script>\n",
              "        const buttonEl =\n",
              "          document.querySelector('#df-52d70f87-7756-4871-82a2-56a9398bb41c button.colab-df-convert');\n",
              "        buttonEl.style.display =\n",
              "          google.colab.kernel.accessAllowed ? 'block' : 'none';\n",
              "\n",
              "        async function convertToInteractive(key) {\n",
              "          const element = document.querySelector('#df-52d70f87-7756-4871-82a2-56a9398bb41c');\n",
              "          const dataTable =\n",
              "            await google.colab.kernel.invokeFunction('convertToInteractive',\n",
              "                                                     [key], {});\n",
              "          if (!dataTable) return;\n",
              "\n",
              "          const docLinkHtml = 'Like what you see? Visit the ' +\n",
              "            '<a target=\"_blank\" href=https://colab.research.google.com/notebooks/data_table.ipynb>data table notebook</a>'\n",
              "            + ' to learn more about interactive tables.';\n",
              "          element.innerHTML = '';\n",
              "          dataTable['output_type'] = 'display_data';\n",
              "          await google.colab.output.renderOutput(dataTable, element);\n",
              "          const docLink = document.createElement('div');\n",
              "          docLink.innerHTML = docLinkHtml;\n",
              "          element.appendChild(docLink);\n",
              "        }\n",
              "      </script>\n",
              "    </div>\n",
              "  </div>\n",
              "  "
            ]
          },
          "metadata": {},
          "execution_count": 21
        }
      ],
      "source": [
        "df[(df[\"MasVnrType\"] == \"None\") & (df[\"MasVnrArea\"] != 0.0)]"
      ]
    },
    {
      "cell_type": "markdown",
      "metadata": {
        "id": "xrWE4G6UFF-P"
      },
      "source": [
        "**Francamente** yo no soy un experto en casas, por lo que no tengo forma de deducir a qué se debe esa incoherencia en los datos. Por lo anterior, simplemente voy a eliminar esas filas, ya que tengo dudas de la veracidad de esos datos."
      ]
    },
    {
      "cell_type": "code",
      "execution_count": 22,
      "metadata": {
        "id": "c-plwdeO3e01"
      },
      "outputs": [],
      "source": [
        "df = df[~((df[\"MasVnrType\"] == \"None\") & (df[\"MasVnrArea\"] != 0.0))]"
      ]
    },
    {
      "cell_type": "markdown",
      "metadata": {
        "id": "xOSpSvge8l3P"
      },
      "source": [
        "La variable `Electrical` tampoco nos ofrece una forma de recuperar esos valores nulos, por lo que también vamos a eliminar ese registro. Nótese que otra opción podría ser reemplazarlo con el valor más común en la misma variable, dado que esta es categórica. "
      ]
    },
    {
      "cell_type": "code",
      "execution_count": 23,
      "metadata": {
        "id": "PqA8DbsI9EA-"
      },
      "outputs": [],
      "source": [
        "df.dropna(subset=[\"Electrical\"], inplace=True)"
      ]
    },
    {
      "cell_type": "code",
      "execution_count": 24,
      "metadata": {
        "colab": {
          "base_uri": "https://localhost:8080/"
        },
        "id": "YukLSRVk8EgX",
        "outputId": "14baae1b-2321-4322-dfca-6d6628471cb2"
      },
      "outputs": [
        {
          "output_type": "stream",
          "name": "stdout",
          "text": [
            "<class 'pandas.core.frame.DataFrame'>\n",
            "Int64Index: 1446 entries, 0 to 1459\n",
            "Data columns (total 81 columns):\n",
            " #   Column         Non-Null Count  Dtype  \n",
            "---  ------         --------------  -----  \n",
            " 0   Id             1446 non-null   int64  \n",
            " 1   MSSubClass     1446 non-null   int64  \n",
            " 2   MSZoning       1446 non-null   object \n",
            " 3   LotFrontage    1446 non-null   float64\n",
            " 4   LotArea        1446 non-null   int64  \n",
            " 5   Street         1446 non-null   object \n",
            " 6   Alley          1446 non-null   object \n",
            " 7   LotShape       1446 non-null   object \n",
            " 8   LandContour    1446 non-null   object \n",
            " 9   Utilities      1446 non-null   object \n",
            " 10  LotConfig      1446 non-null   object \n",
            " 11  LandSlope      1446 non-null   object \n",
            " 12  Neighborhood   1446 non-null   object \n",
            " 13  Condition1     1446 non-null   object \n",
            " 14  Condition2     1446 non-null   object \n",
            " 15  BldgType       1446 non-null   object \n",
            " 16  HouseStyle     1446 non-null   object \n",
            " 17  OverallQual    1446 non-null   int64  \n",
            " 18  OverallCond    1446 non-null   int64  \n",
            " 19  YearBuilt      1446 non-null   int64  \n",
            " 20  YearRemodAdd   1446 non-null   int64  \n",
            " 21  RoofStyle      1446 non-null   object \n",
            " 22  RoofMatl       1446 non-null   object \n",
            " 23  Exterior1st    1446 non-null   object \n",
            " 24  Exterior2nd    1446 non-null   object \n",
            " 25  MasVnrType     1446 non-null   object \n",
            " 26  MasVnrArea     1446 non-null   float64\n",
            " 27  ExterQual      1446 non-null   object \n",
            " 28  ExterCond      1446 non-null   object \n",
            " 29  Foundation     1446 non-null   object \n",
            " 30  BsmtQual       1409 non-null   object \n",
            " 31  BsmtCond       1409 non-null   object \n",
            " 32  BsmtExposure   1408 non-null   object \n",
            " 33  BsmtFinType1   1409 non-null   object \n",
            " 34  BsmtFinSF1     1446 non-null   int64  \n",
            " 35  BsmtFinType2   1408 non-null   object \n",
            " 36  BsmtFinSF2     1446 non-null   int64  \n",
            " 37  BsmtUnfSF      1446 non-null   int64  \n",
            " 38  TotalBsmtSF    1446 non-null   int64  \n",
            " 39  Heating        1446 non-null   object \n",
            " 40  HeatingQC      1446 non-null   object \n",
            " 41  CentralAir     1446 non-null   object \n",
            " 42  Electrical     1446 non-null   object \n",
            " 43  1stFlrSF       1446 non-null   int64  \n",
            " 44  2ndFlrSF       1446 non-null   int64  \n",
            " 45  LowQualFinSF   1446 non-null   int64  \n",
            " 46  GrLivArea      1446 non-null   int64  \n",
            " 47  BsmtFullBath   1446 non-null   int64  \n",
            " 48  BsmtHalfBath   1446 non-null   int64  \n",
            " 49  FullBath       1446 non-null   int64  \n",
            " 50  HalfBath       1446 non-null   int64  \n",
            " 51  BedroomAbvGr   1446 non-null   int64  \n",
            " 52  KitchenAbvGr   1446 non-null   int64  \n",
            " 53  KitchenQual    1446 non-null   object \n",
            " 54  TotRmsAbvGrd   1446 non-null   int64  \n",
            " 55  Functional     1446 non-null   object \n",
            " 56  Fireplaces     1446 non-null   int64  \n",
            " 57  FireplaceQu    1446 non-null   object \n",
            " 58  GarageType     1446 non-null   object \n",
            " 59  GarageYrBlt    1446 non-null   float64\n",
            " 60  GarageFinish   1446 non-null   object \n",
            " 61  GarageCars     1446 non-null   int64  \n",
            " 62  GarageArea     1446 non-null   int64  \n",
            " 63  GarageQual     1446 non-null   object \n",
            " 64  GarageCond     1446 non-null   object \n",
            " 65  PavedDrive     1446 non-null   object \n",
            " 66  WoodDeckSF     1446 non-null   int64  \n",
            " 67  OpenPorchSF    1446 non-null   int64  \n",
            " 68  EnclosedPorch  1446 non-null   int64  \n",
            " 69  3SsnPorch      1446 non-null   int64  \n",
            " 70  ScreenPorch    1446 non-null   int64  \n",
            " 71  PoolArea       1446 non-null   int64  \n",
            " 72  PoolQC         1446 non-null   object \n",
            " 73  Fence          1446 non-null   object \n",
            " 74  MiscFeature    1446 non-null   object \n",
            " 75  MiscVal        1446 non-null   int64  \n",
            " 76  MoSold         1446 non-null   int64  \n",
            " 77  YrSold         1446 non-null   int64  \n",
            " 78  SaleType       1446 non-null   object \n",
            " 79  SaleCondition  1446 non-null   object \n",
            " 80  SalePrice      1446 non-null   int64  \n",
            "dtypes: float64(3), int64(35), object(43)\n",
            "memory usage: 926.3+ KB\n"
          ]
        }
      ],
      "source": [
        "df.info()"
      ]
    },
    {
      "cell_type": "markdown",
      "metadata": {
        "id": "hy3VAZ-hSZ3O"
      },
      "source": [
        "Ahora miremos las variables relacionadas con el basement:\n",
        "\n",
        "```\n",
        "\n",
        "BsmtQual: Evaluates the height of the basement\n",
        "\n",
        "       Ex\tExcellent (100+ inches)\t\n",
        "       Gd\tGood (90-99 inches)\n",
        "       TA\tTypical (80-89 inches)\n",
        "       Fa\tFair (70-79 inches)\n",
        "       Po\tPoor (<70 inches\n",
        "       NA\tNo Basement\n",
        "\t\t\n",
        "BsmtCond: Evaluates the general condition of the basement\n",
        "\n",
        "       Ex\tExcellent\n",
        "       Gd\tGood\n",
        "       TA\tTypical - slight dampness allowed\n",
        "       Fa\tFair - dampness or some cracking or settling\n",
        "       Po\tPoor - Severe cracking, settling, or wetness\n",
        "       NA\tNo Basement\n",
        "\t\n",
        "BsmtExposure: Refers to walkout or garden level walls\n",
        "\n",
        "       Gd\tGood Exposure\n",
        "       Av\tAverage Exposure (split levels or foyers typically score average or above)\t\n",
        "       Mn\tMimimum Exposure\n",
        "       No\tNo Exposure\n",
        "       NA\tNo Basement\n",
        "\t\n",
        "BsmtFinType1: Rating of basement finished area\n",
        "\n",
        "       GLQ\tGood Living Quarters\n",
        "       ALQ\tAverage Living Quarters\n",
        "       BLQ\tBelow Average Living Quarters\t\n",
        "       Rec\tAverage Rec Room\n",
        "       LwQ\tLow Quality\n",
        "       Unf\tUnfinshed\n",
        "       NA\tNo Basement\n",
        "\t\t\n",
        "BsmtFinSF1: Type 1 finished square feet\n",
        "\n",
        "BsmtFinType2: Rating of basement finished area (if multiple types)\n",
        "\n",
        "       GLQ\tGood Living Quarters\n",
        "       ALQ\tAverage Living Quarters\n",
        "       BLQ\tBelow Average Living Quarters\t\n",
        "       Rec\tAverage Rec Room\n",
        "       LwQ\tLow Quality\n",
        "       Unf\tUnfinshed\n",
        "       NA\tNo Basement\n",
        "\n",
        "BsmtFinSF2: Type 2 finished square feet\n",
        "\n",
        "BsmtUnfSF: Unfinished square feet of basement area\n",
        "\n",
        "TotalBsmtSF: Total square feet of basement area\n",
        "\n",
        "```"
      ]
    },
    {
      "cell_type": "markdown",
      "metadata": {
        "id": "wQ6uSZh5Wnsh"
      },
      "source": [
        "Dado que los valores nulos en varias de estas variables corresponden a `No Basement`, ahora miremos si los registros nulos en algunas corresponden a los registros nulos en todas. Primero, dado que ya hemos eliminado varios registros, vamos a ver cuántos valores nulos hay en esas variables."
      ]
    },
    {
      "cell_type": "code",
      "execution_count": 25,
      "metadata": {
        "colab": {
          "base_uri": "https://localhost:8080/"
        },
        "id": "ZvZivJXDZSuS",
        "outputId": "d00319a6-09a0-4728-f6ea-5c587d2256dc"
      },
      "outputs": [
        {
          "output_type": "stream",
          "name": "stdout",
          "text": [
            "BsmtQual has 37 null values\n",
            "BsmtCond has 37 null values\n",
            "BsmtExposure has 38 null values\n",
            "BsmtFinType1 has 37 null values\n",
            "BsmtFinSF1 has 0 null values\n",
            "BsmtFinType2 has 38 null values\n",
            "BsmtFinSF2 has 0 null values\n",
            "BsmtUnfSF has 0 null values\n",
            "TotalBsmtSF has 0 null values\n"
          ]
        }
      ],
      "source": [
        "colnames = [\"BsmtQual\", \"BsmtCond\", \"BsmtExposure\", \"BsmtFinType1\",\n",
        "    \"BsmtFinSF1\", \"BsmtFinType2\", \"BsmtFinSF2\", \"BsmtUnfSF\", \"TotalBsmtSF\"]\n",
        "for c in colnames:\n",
        "    print(f\"{c} has {df[c].isnull().sum()} null values\")"
      ]
    },
    {
      "cell_type": "code",
      "execution_count": 26,
      "metadata": {
        "colab": {
          "base_uri": "https://localhost:8080/"
        },
        "id": "Nd-LMvoKj96A",
        "outputId": "4fbc0d24-1630-4150-bb61-fbe5a14d462e"
      },
      "outputs": [
        {
          "output_type": "execute_result",
          "data": {
            "text/plain": [
              "0       37\n",
              "864     35\n",
              "672     17\n",
              "912     14\n",
              "1040    14\n",
              "        ..\n",
              "1581     1\n",
              "707      1\n",
              "611      1\n",
              "1452     1\n",
              "1542     1\n",
              "Name: TotalBsmtSF, Length: 716, dtype: int64"
            ]
          },
          "metadata": {},
          "execution_count": 26
        }
      ],
      "source": [
        "df[\"TotalBsmtSF\"].value_counts()"
      ]
    },
    {
      "cell_type": "markdown",
      "metadata": {
        "id": "hxS2-G-wJhWB"
      },
      "source": [
        "Acá vemos que algunas tienen más variables nulas que otras, lo cual es confuso porque en cualquier caso los valores nulos deberían significar que no hay basement. En este caso vamos a reemplazar los valores en los que los valores nulos sean en todas las variables no numéricas pero los que sobren los eliminaremos."
      ]
    },
    {
      "cell_type": "code",
      "execution_count": 27,
      "metadata": {
        "id": "RVO6rC99hBqh"
      },
      "outputs": [],
      "source": [
        "colnames = [\"BsmtQual\", \"BsmtCond\", \"BsmtExposure\", \"BsmtFinType1\", \"BsmtFinType2\"]\n",
        "cond = ~(df[\"BsmtQual\"].isna() & df[\"BsmtCond\"].isna() & df[\"BsmtExposure\"].isna() & df[\"BsmtFinType1\"].isna() & df[\"BsmtFinType2\"].isna())\n",
        "for c in colnames:\n",
        "    df[c].where(cond, other=\"NB\", inplace=True)"
      ]
    },
    {
      "cell_type": "code",
      "execution_count": 28,
      "metadata": {
        "colab": {
          "base_uri": "https://localhost:8080/"
        },
        "id": "f2A89kie8s_j",
        "outputId": "94e0d3ee-8e1e-4806-a99d-81f93489d1b7"
      },
      "outputs": [
        {
          "output_type": "stream",
          "name": "stdout",
          "text": [
            "Number of null values 0 in a dataframe of shape (1444, 81)\n"
          ]
        }
      ],
      "source": [
        "df.dropna(inplace=True)\n",
        "print(f\"Number of null values {df.isna().sum().sum()} in a dataframe of shape {df.shape}\")"
      ]
    },
    {
      "cell_type": "markdown",
      "metadata": {
        "id": "Crv4zo8v9sbv"
      },
      "source": [
        "## Análisis exploratorio de datos\n",
        "\n",
        "En esta sección se dejarán preguntas que deben ser respondidas utilizando los datos.\n",
        "\n",
        "**¿Qué tan viejas son las casas?**"
      ]
    },
    {
      "cell_type": "code",
      "execution_count": 29,
      "metadata": {
        "colab": {
          "base_uri": "https://localhost:8080/",
          "height": 282
        },
        "id": "iuIm1tOcHjdq",
        "outputId": "78f91f45-5bfa-4e34-8c96-221eb11c46b1"
      },
      "outputs": [
        {
          "output_type": "execute_result",
          "data": {
            "text/plain": [
              "<matplotlib.axes._subplots.AxesSubplot at 0x7f1234fa1690>"
            ]
          },
          "metadata": {},
          "execution_count": 29
        },
        {
          "output_type": "display_data",
          "data": {
            "text/plain": [
              "<Figure size 432x288 with 1 Axes>"
            ],
            "image/png": "[encoded data removed]"
          },
          "metadata": {
            "needs_background": "light"
          }
        }
      ],
      "source": [
        "df[\"HouseAge\"] = df[\"YrSold\"] - df[\"YearBuilt\"]\n",
        "df[\"HouseAge\"].hist(bins=20)"
      ]
    },
    {
      "cell_type": "code",
      "execution_count": 31,
      "metadata": {
        "id": "BIxUnUxrcvGP",
        "outputId": "35968951-d284-4019-f3b7-96613ac56858",
        "colab": {
          "base_uri": "https://localhost:8080/",
          "height": 282
        }
      },
      "outputs": [
        {
          "output_type": "execute_result",
          "data": {
            "text/plain": [
              "<matplotlib.axes._subplots.AxesSubplot at 0x7f1234eb0250>"
            ]
          },
          "metadata": {},
          "execution_count": 31
        },
        {
          "output_type": "display_data",
          "data": {
            "text/plain": [
              "<Figure size 432x288 with 1 Axes>"
            ],
            "image/png": "[encoded data removed]"
          },
          "metadata": {
            "needs_background": "light"
          }
        }
      ],
      "source": [
        "df[\"HouseAge\"] = df[\"YrSold\"] - df[\"YearBuilt\"]\n",
        "df[\"HouseAge\"].hist(bins=20)"
      ]
    },
    {
      "cell_type": "markdown",
      "metadata": {
        "id": "ATmM4SG5cvGP"
      },
      "source": [
        "**¿Cuál es el barrio más pobre?**"
      ]
    },
    {
      "cell_type": "code",
      "execution_count": 30,
      "metadata": {
        "id": "NCND9AaScvGP",
        "outputId": "cc4c357f-4025-428c-820a-6a77abe517e3",
        "colab": {
          "base_uri": "https://localhost:8080/",
          "height": 1000
        }
      },
      "outputs": [
        {
          "output_type": "stream",
          "name": "stdout",
          "text": [
            "              OverallQual  OverallCond  YearRemodAdd   HouseAge  \\\n",
            "Neighborhood                                                      \n",
            "Blmngtn          7.176471     5.000000   2005.764706   2.235294   \n",
            "Blueste          6.000000     6.000000   1980.000000  28.500000   \n",
            "BrDale           5.733333     5.400000   1973.866667  36.066667   \n",
            "BrkSide          5.051724     6.137931   1968.586207  76.241379   \n",
            "ClearCr          5.892857     5.678571   1983.750000  41.214286   \n",
            "CollgCr          6.628378     5.243243   1999.101351   9.986486   \n",
            "Crawfor          6.280000     6.660000   1979.280000  66.260000   \n",
            "Edwards          5.080000     5.440000   1975.110000  51.970000   \n",
            "Gilbert          6.558442     5.129870   1998.779221   9.311688   \n",
            "IDOTRR           4.756757     5.540541   1964.378378  79.810811   \n",
            "MeadowV          4.470588     5.529412   1976.705882  35.470588   \n",
            "Mitchel          5.591837     5.367347   1985.551020  26.000000   \n",
            "NAmes            5.361607     5.794643   1971.683036  47.866071   \n",
            "NPkVill          6.000000     5.555556   1976.444444  32.222222   \n",
            "NWAmes           6.333333     5.958333   1981.652778  32.166667   \n",
            "NoRidge          7.926829     5.219512   1996.658537  12.390244   \n",
            "NridgHt          8.240000     5.000000   2006.200000   2.120000   \n",
            "OldTown          5.389381     6.353982   1975.424779  84.902655   \n",
            "SWISU            5.440000     5.920000   1969.680000  82.920000   \n",
            "Sawyer           5.027397     5.821918   1978.547945  44.410959   \n",
            "SawyerW          6.310345     5.155172   1989.758621  19.896552   \n",
            "Somerst          7.349398     5.024096   2005.228916   2.819277   \n",
            "StoneBr          8.160000     5.000000   1998.840000   9.440000   \n",
            "Timber           7.216216     5.135135   1992.972973  15.324324   \n",
            "Veenker          6.727273     6.272727   1989.818182  24.636364   \n",
            "\n",
            "                Sales_price  Prom_slope_property  \n",
            "Neighborhood                                      \n",
            "Blmngtn       194870.882353             3.000000  \n",
            "Blueste       137500.000000             3.000000  \n",
            "BrDale        103126.666667             3.000000  \n",
            "BrkSide       124834.051724             2.965517  \n",
            "ClearCr       212565.428571             2.250000  \n",
            "CollgCr       197738.959459             2.966216  \n",
            "Crawfor       210824.740000             2.760000  \n",
            "Edwards       128219.700000             2.930000  \n",
            "Gilbert       192129.948052             2.987013  \n",
            "IDOTRR        100123.783784             2.864865  \n",
            "MeadowV        98576.470588             3.000000  \n",
            "Mitchel       156270.122449             2.836735  \n",
            "NAmes         145987.022321             2.964286  \n",
            "NPkVill       142694.444444             3.000000  \n",
            "NWAmes        189382.013889             3.000000  \n",
            "NoRidge       335295.317073             2.975610  \n",
            "NridgHt       314717.840000             3.000000  \n",
            "OldTown       128225.300885             2.955752  \n",
            "SWISU         142591.360000             2.960000  \n",
            "Sawyer        136064.273973             2.986301  \n",
            "SawyerW       186584.344828             2.948276  \n",
            "Somerst       226443.566265             3.000000  \n",
            "StoneBr       310499.000000             2.880000  \n",
            "Timber        244267.648649             2.783784  \n",
            "Veenker       238772.727273             3.000000  \n"
          ]
        },
        {
          "output_type": "display_data",
          "data": {
            "text/plain": [
              "<Figure size 432x288 with 1 Axes>"
            ],
            "image/png": "[encoded data removed]"
          },
          "metadata": {
            "needs_background": "light"
          }
        }
      ],
      "source": [
        "df.groupby(\"Neighborhood\").mean()[\"OverallQual\"]\n",
        "\n",
        "Comparacion_pobreza = df.groupby(\"Neighborhood\").mean()[\"OverallQual\"]\n",
        "\n",
        "Comparacion_pobreza =  pd.DataFrame(Comparacion_pobreza)\n",
        "\n",
        "Comparacion_pobreza[\"OverallCond\"] = df.groupby(\"Neighborhood\").mean()[\"OverallCond\"]\n",
        "\n",
        "Comparacion_pobreza[\"YearRemodAdd\"] = df.groupby(\"Neighborhood\").mean()[\"YearRemodAdd\"]\n",
        "\n",
        "Comparacion_pobreza[\"HouseAge\"] = df.groupby(\"Neighborhood\").mean()[\"HouseAge\"]\n",
        "\n",
        "Comparacion_pobreza[\"Sales_price\"] = df.groupby(\"Neighborhood\").mean()[\"SalePrice\"]\n",
        "       \n",
        "df[\"Prom_slope_property\"] = df.LandSlope.replace({\"Gtl\": 3, \"Mod\": 2, \"Sev\": 1})\n",
        "\n",
        "Comparacion_pobreza[\"Prom_slope_property\"] = df.groupby(\"Neighborhood\").mean()[\"Prom_slope_property\"]\n",
        "\n",
        "import pandas\n",
        "import matplotlib.pyplot as plt\n",
        "import seaborn as sns\n",
        "from pandas.plotting import parallel_coordinates\n",
        " \n",
        "\n",
        "def mean_norm(df_input):\n",
        "    return df_input.apply(lambda x: (x-x.mean())/ x.std(), axis=0)\n",
        "\n",
        "Comparacion_pobreza_normalizada = mean_norm(Comparacion_pobreza)\n",
        "\n",
        "\n",
        "Comparacion_pobreza_normalizada['Neighborhood'] = Comparacion_pobreza_normalizada.index\n",
        "\n",
        "print(Comparacion_pobreza)\n",
        "# Make the plot\n",
        "parallel_coordinates(Comparacion_pobreza_normalizada, 'Neighborhood')\n",
        "plt.show()"
      ]
    },
    {
      "cell_type": "markdown",
      "source": [
        "El barrio mas pobre es Meadow Village debido a que la calidad de construccion de sus casas es la mas baja de todas, ademas tambien es el barrio con mayor inclinacion, lo cual es una desventaja frente a barrios que se ubican en superficies planas. Tambien se debe mencionar que ocupa la posicion 11 de los barrios mas antiguos de un total de 26 barrios, ademas de ser el barrio con menor valor promedio de venta de sus casas, por tanto es uno de los barrios con mayor pobreza."
      ],
      "metadata": {
        "id": "QprfLvMqJVSS"
      }
    },
    {
      "cell_type": "markdown",
      "metadata": {
        "id": "eSIdTHXDcvGP"
      },
      "source": [
        "**¿Cuál es el barrio más cercano a vías férreas?**"
      ]
    },
    {
      "cell_type": "code",
      "execution_count": 32,
      "metadata": {
        "id": "g_3iCPf5cvGQ",
        "outputId": "68a5f029-f2ae-4e6b-9ecf-7f8a3014eb09",
        "colab": {
          "base_uri": "https://localhost:8080/",
          "height": 238
        }
      },
      "outputs": [
        {
          "output_type": "execute_result",
          "data": {
            "text/plain": [
              "Neighborhood    BrkSide    Gilbert    IDOTRR     NWAmes   OldTown     Sawyer  \\\n",
              "Condition1                                                                     \n",
              "RRAe           0.000000   0.000000  2.272727   0.000000  0.000000  13.636364   \n",
              "RRAn          15.909091  18.181818  0.000000  13.636364  2.272727   0.000000   \n",
              "RRNe           0.000000   0.000000  0.000000   0.000000  0.000000   0.000000   \n",
              "RRNn           2.272727   2.272727  2.272727   0.000000  0.000000   0.000000   \n",
              "All           18.181818  20.454545  4.545455  13.636364  2.272727  13.636364   \n",
              "\n",
              "Neighborhood    SawyerW    Somerst         All  \n",
              "Condition1                                      \n",
              "RRAe           9.090909   0.000000   25.000000  \n",
              "RRAn           0.000000   9.090909   59.090909  \n",
              "RRNe           4.545455   0.000000    4.545455  \n",
              "RRNn           0.000000   4.545455   11.363636  \n",
              "All           13.636364  13.636364  100.000000  "
            ],
            "text/html": [
              "\n",
              "  <div id=\"df-237fdc8f-a777-4f59-9d97-84d64d8b6fa9\">\n",
              "    <div class=\"colab-df-container\">\n",
              "      <div>\n",
              "<style scoped>\n",
              "    .dataframe tbody tr th:only-of-type {\n",
              "        vertical-align: middle;\n",
              "    }\n",
              "\n",
              "    .dataframe tbody tr th {\n",
              "        vertical-align: top;\n",
              "    }\n",
              "\n",
              "    .dataframe thead th {\n",
              "        text-align: right;\n",
              "    }\n",
              "</style>\n",
              "<table border=\"1\" class=\"dataframe\">\n",
              "  <thead>\n",
              "    <tr style=\"text-align: right;\">\n",
              "      <th>Neighborhood</th>\n",
              "      <th>BrkSide</th>\n",
              "      <th>Gilbert</th>\n",
              "      <th>IDOTRR</th>\n",
              "      <th>NWAmes</th>\n",
              "      <th>OldTown</th>\n",
              "      <th>Sawyer</th>\n",
              "      <th>SawyerW</th>\n",
              "      <th>Somerst</th>\n",
              "      <th>All</th>\n",
              "    </tr>\n",
              "    <tr>\n",
              "      <th>Condition1</th>\n",
              "      <th></th>\n",
              "      <th></th>\n",
              "      <th></th>\n",
              "      <th></th>\n",
              "      <th></th>\n",
              "      <th></th>\n",
              "      <th></th>\n",
              "      <th></th>\n",
              "      <th></th>\n",
              "    </tr>\n",
              "  </thead>\n",
              "  <tbody>\n",
              "    <tr>\n",
              "      <th>RRAe</th>\n",
              "      <td>0.000000</td>\n",
              "      <td>0.000000</td>\n",
              "      <td>2.272727</td>\n",
              "      <td>0.000000</td>\n",
              "      <td>0.000000</td>\n",
              "      <td>13.636364</td>\n",
              "      <td>9.090909</td>\n",
              "      <td>0.000000</td>\n",
              "      <td>25.000000</td>\n",
              "    </tr>\n",
              "    <tr>\n",
              "      <th>RRAn</th>\n",
              "      <td>15.909091</td>\n",
              "      <td>18.181818</td>\n",
              "      <td>0.000000</td>\n",
              "      <td>13.636364</td>\n",
              "      <td>2.272727</td>\n",
              "      <td>0.000000</td>\n",
              "      <td>0.000000</td>\n",
              "      <td>9.090909</td>\n",
              "      <td>59.090909</td>\n",
              "    </tr>\n",
              "    <tr>\n",
              "      <th>RRNe</th>\n",
              "      <td>0.000000</td>\n",
              "      <td>0.000000</td>\n",
              "      <td>0.000000</td>\n",
              "      <td>0.000000</td>\n",
              "      <td>0.000000</td>\n",
              "      <td>0.000000</td>\n",
              "      <td>4.545455</td>\n",
              "      <td>0.000000</td>\n",
              "      <td>4.545455</td>\n",
              "    </tr>\n",
              "    <tr>\n",
              "      <th>RRNn</th>\n",
              "      <td>2.272727</td>\n",
              "      <td>2.272727</td>\n",
              "      <td>2.272727</td>\n",
              "      <td>0.000000</td>\n",
              "      <td>0.000000</td>\n",
              "      <td>0.000000</td>\n",
              "      <td>0.000000</td>\n",
              "      <td>4.545455</td>\n",
              "      <td>11.363636</td>\n",
              "    </tr>\n",
              "    <tr>\n",
              "      <th>All</th>\n",
              "      <td>18.181818</td>\n",
              "      <td>20.454545</td>\n",
              "      <td>4.545455</td>\n",
              "      <td>13.636364</td>\n",
              "      <td>2.272727</td>\n",
              "      <td>13.636364</td>\n",
              "      <td>13.636364</td>\n",
              "      <td>13.636364</td>\n",
              "      <td>100.000000</td>\n",
              "    </tr>\n",
              "  </tbody>\n",
              "</table>\n",
              "</div>\n",
              "      <button class=\"colab-df-convert\" onclick=\"convertToInteractive('df-237fdc8f-a777-4f59-9d97-84d64d8b6fa9')\"\n",
              "              title=\"Convert this dataframe to an interactive table.\"\n",
              "              style=\"display:none;\">\n",
              "        \n",
              "  <svg xmlns=\"http://www.w3.org/2000/svg\" height=\"24px\"viewBox=\"0 0 24 24\"\n",
              "       width=\"24px\">\n",
              "    <path d=\"M0 0h24v24H0V0z\" fill=\"none\"/>\n",
              "    <path d=\"M18.56 5.44l.94 2.06.94-2.06 2.06-.94-2.06-.94-.94-2.06-.94 2.06-2.06.94zm-11 1L8.5 8.5l.94-2.06 2.06-.94-2.06-.94L8.5 2.5l-.94 2.06-2.06.94zm10 10l.94 2.06.94-2.06 2.06-.94-2.06-.94-.94-2.06-.94 2.06-2.06.94z\"/><path d=\"M17.41 7.96l-1.37-1.37c-.4-.4-.92-.59-1.43-.59-.52 0-1.04.2-1.43.59L10.3 9.45l-7.72 7.72c-.78.78-.78 2.05 0 2.83L4 21.41c.39.39.9.59 1.41.59.51 0 1.02-.2 1.41-.59l7.78-7.78 2.81-2.81c.8-.78.8-2.07 0-2.86zM5.41 20L4 18.59l7.72-7.72 1.47 1.35L5.41 20z\"/>\n",
              "  </svg>\n",
              "      </button>\n",
              "      \n",
              "  <style>\n",
              "    .colab-df-container {\n",
              "      display:flex;\n",
              "      flex-wrap:wrap;\n",
              "      gap: 12px;\n",
              "    }\n",
              "\n",
              "    .colab-df-convert {\n",
              "      background-color: #E8F0FE;\n",
              "      border: none;\n",
              "      border-radius: 50%;\n",
              "      cursor: pointer;\n",
              "      display: none;\n",
              "      fill: #1967D2;\n",
              "      height: 32px;\n",
              "      padding: 0 0 0 0;\n",
              "      width: 32px;\n",
              "    }\n",
              "\n",
              "    .colab-df-convert:hover {\n",
              "      background-color: #E2EBFA;\n",
              "      box-shadow: 0px 1px 2px rgba(60, 64, 67, 0.3), 0px 1px 3px 1px rgba(60, 64, 67, 0.15);\n",
              "      fill: #174EA6;\n",
              "    }\n",
              "\n",
              "    [theme=dark] .colab-df-convert {\n",
              "      background-color: #3B4455;\n",
              "      fill: #D2E3FC;\n",
              "    }\n",
              "\n",
              "    [theme=dark] .colab-df-convert:hover {\n",
              "      background-color: #434B5C;\n",
              "      box-shadow: 0px 1px 3px 1px rgba(0, 0, 0, 0.15);\n",
              "      filter: drop-shadow(0px 1px 2px rgba(0, 0, 0, 0.3));\n",
              "      fill: #FFFFFF;\n",
              "    }\n",
              "  </style>\n",
              "\n",
              "      <script>\n",
              "        const buttonEl =\n",
              "          document.querySelector('#df-237fdc8f-a777-4f59-9d97-84d64d8b6fa9 button.colab-df-convert');\n",
              "        buttonEl.style.display =\n",
              "          google.colab.kernel.accessAllowed ? 'block' : 'none';\n",
              "\n",
              "        async function convertToInteractive(key) {\n",
              "          const element = document.querySelector('#df-237fdc8f-a777-4f59-9d97-84d64d8b6fa9');\n",
              "          const dataTable =\n",
              "            await google.colab.kernel.invokeFunction('convertToInteractive',\n",
              "                                                     [key], {});\n",
              "          if (!dataTable) return;\n",
              "\n",
              "          const docLinkHtml = 'Like what you see? Visit the ' +\n",
              "            '<a target=\"_blank\" href=https://colab.research.google.com/notebooks/data_table.ipynb>data table notebook</a>'\n",
              "            + ' to learn more about interactive tables.';\n",
              "          element.innerHTML = '';\n",
              "          dataTable['output_type'] = 'display_data';\n",
              "          await google.colab.output.renderOutput(dataTable, element);\n",
              "          const docLink = document.createElement('div');\n",
              "          docLink.innerHTML = docLinkHtml;\n",
              "          element.appendChild(docLink);\n",
              "        }\n",
              "      </script>\n",
              "    </div>\n",
              "  </div>\n",
              "  "
            ]
          },
          "metadata": {},
          "execution_count": 32
        }
      ],
      "source": [
        "Proporcion_vias_ferreas = df[df.Condition1.isin(['RRNn','RRAn','RRNe','RRAe'])]\n",
        "Proporcion_vias_ferreas = pd.crosstab(index=Proporcion_vias_ferreas['Condition1'], columns=Proporcion_vias_ferreas[\"Neighborhood\"],\n",
        "                                        margins=True).apply(lambda r: r/len(Proporcion_vias_ferreas)*100,axis=1)\n",
        "Proporcion_vias_ferreas"
      ]
    },
    {
      "cell_type": "markdown",
      "source": [
        "Se crea una tabla que nos muestra la proporcion de vias tipo ferreas por cada barrio, y se nota gran superiodad de los barrios Gilbert y Brkside, ya que cuentan con 20.45% y 18.18% respectivamente del total de de vias ferreas. Por tanto concluimos que estos barrios estan cercanos a tener el 40% de vias ferreas totales."
      ],
      "metadata": {
        "id": "afcl35hQJt9M"
      }
    },
    {
      "cell_type": "markdown",
      "metadata": {
        "id": "G_0WHcmscvGQ"
      },
      "source": [
        "**¿Cuál es la cobertura más común en las casas que se encuentran el el top 10% en precio?**"
      ]
    },
    {
      "cell_type": "code",
      "execution_count": 33,
      "metadata": {
        "id": "F65u0SjicvGQ",
        "outputId": "462085de-526e-44a1-fc5c-874e8b2573c9",
        "colab": {
          "base_uri": "https://localhost:8080/"
        }
      },
      "outputs": [
        {
          "output_type": "execute_result",
          "data": {
            "text/plain": [
              "691     755000\n",
              "1182    745000\n",
              "1169    625000\n",
              "898     611657\n",
              "803     582933\n",
              "         ...  \n",
              "408     280000\n",
              "451     280000\n",
              "1109    280000\n",
              "13      279500\n",
              "1044    278000\n",
              "Name: SalePrice, Length: 144, dtype: int64"
            ]
          },
          "metadata": {},
          "execution_count": 33
        }
      ],
      "source": [
        "Valores_mas_altos = df['SalePrice'].nlargest(n = round(len(df)*0.10))\n",
        "Valores_mas_altos"
      ]
    },
    {
      "cell_type": "markdown",
      "metadata": {
        "id": "AqZ3IcDYcvGQ"
      },
      "source": [
        "**¿En qué barrio hay mayor desigualdad?**"
      ]
    },
    {
      "cell_type": "markdown",
      "source": [
        "Existen muchos tipos de desigualdad, para este ejemplo miraremos la desigualdad en terminos economicos y de condiciones de la vivienda, por tanto analizaremos la distribucion de las variables de \"Precio de venta\" y \"Condiciones de la vivienda\""
      ],
      "metadata": {
        "id": "_C7UvkKmJ5DT"
      }
    },
    {
      "cell_type": "code",
      "execution_count": 34,
      "metadata": {
        "id": "NXxqs0MpcvGQ",
        "outputId": "37cd501b-02f2-4468-83e7-c551aa612419",
        "colab": {
          "base_uri": "https://localhost:8080/",
          "height": 514
        }
      },
      "outputs": [
        {
          "output_type": "execute_result",
          "data": {
            "text/plain": [
              "<matplotlib.axes._subplots.AxesSubplot at 0x7f1224551250>"
            ]
          },
          "metadata": {},
          "execution_count": 34
        },
        {
          "output_type": "display_data",
          "data": {
            "text/plain": [
              "<Figure size 1296x576 with 1 Axes>"
            ],
            "image/png": "[encoded data removed]"
          },
          "metadata": {
            "needs_background": "light"
          }
        }
      ],
      "source": [
        "import matplotlib.pyplot as plt\n",
        "plt.figure(figsize = (18,8))\n",
        "sns.boxplot(y = df['Neighborhood'],\n",
        "            x = df['SalePrice'])"
      ]
    },
    {
      "cell_type": "code",
      "execution_count": 35,
      "metadata": {
        "id": "7lj518sJcvGQ",
        "outputId": "43146b31-d363-4087-f81e-ff8b4d072935",
        "colab": {
          "base_uri": "https://localhost:8080/",
          "height": 514
        }
      },
      "outputs": [
        {
          "output_type": "execute_result",
          "data": {
            "text/plain": [
              "<matplotlib.axes._subplots.AxesSubplot at 0x7f1224249b10>"
            ]
          },
          "metadata": {},
          "execution_count": 35
        },
        {
          "output_type": "display_data",
          "data": {
            "text/plain": [
              "<Figure size 1296x576 with 1 Axes>"
            ],
            "image/png": "[encoded data removed]"
          },
          "metadata": {
            "needs_background": "light"
          }
        }
      ],
      "source": [
        "import matplotlib.pyplot as plt\n",
        "plt.figure(figsize = (18,8))\n",
        "sns.boxplot(y = df['Neighborhood'],\n",
        "            x = df['OverallCond'])"
      ]
    },
    {
      "cell_type": "markdown",
      "source": [
        "Se concluye que el barrio con mayor desigualdad en la parte economica y de condiciones de vivienda es OldTown, pues la distribucion de ambos box plots es la mas dispersa, pues tiene rangos demasiados amplios y se observan valores atipicos, por lo cual tiene una distribucion no normal y con la que concluimos que su densidad es baja y por tanto desigual."
      ],
      "metadata": {
        "id": "_Zqg24wjKANx"
      }
    },
    {
      "cell_type": "markdown",
      "metadata": {
        "id": "fWUAu0tucvGQ"
      },
      "source": [
        "**¿En qué año hubo más movimiento del mercado inmobiliario?**"
      ]
    },
    {
      "cell_type": "code",
      "source": [
        "mercado_inmobiliario = df.groupby(\"YrSold\").size()\n",
        "\n",
        "mercado_inmobiliario =  pd.DataFrame(mercado_inmobiliario)\n",
        "\n",
        "YearRemodAdd_= df[df['YearRemodAdd'] >= 2006]\n",
        "\n",
        "mercado_inmobiliario[\"Remodelacion\"] = YearRemodAdd_.groupby(\"YearRemodAdd\").size()\n",
        "\n",
        "\n",
        "mercado_inmobiliario = mercado_inmobiliario.rename(columns={0:'Ventas'})\n",
        "\n",
        "mercado_inmobiliario[\"Movimiento_mercado\"] = mercado_inmobiliario.Ventas + mercado_inmobiliario.Remodelacion\n",
        "\n",
        "df[\"YrSold\"].hist(bins=40)"
      ],
      "metadata": {
        "id": "CMMK_j0NKXHq"
      },
      "execution_count": null,
      "outputs": []
    },
    {
      "cell_type": "code",
      "source": [
        "YearRemodAdd_[\"YearRemodAdd\"].hist(bins=40)"
      ],
      "metadata": {
        "id": "zEsoVeIWKSBC",
        "outputId": "1563c64b-4709-4355-c686-b2473074146b",
        "colab": {
          "base_uri": "https://localhost:8080/",
          "height": 285
        }
      },
      "execution_count": 38,
      "outputs": [
        {
          "output_type": "execute_result",
          "data": {
            "text/plain": [
              "<matplotlib.axes._subplots.AxesSubplot at 0x7f1223d78fd0>"
            ]
          },
          "metadata": {},
          "execution_count": 38
        },
        {
          "output_type": "display_data",
          "data": {
            "text/plain": [
              "<Figure size 432x288 with 1 Axes>"
            ],
            "image/png": "[encoded data removed]"
          },
          "metadata": {
            "needs_background": "light"
          }
        }
      ]
    },
    {
      "cell_type": "code",
      "source": [
        "print(mercado_inmobiliario)"
      ],
      "metadata": {
        "id": "eMInEPfQKdtZ",
        "outputId": "3a866af3-4472-4136-e61c-3d632c5f83e6",
        "colab": {
          "base_uri": "https://localhost:8080/"
        }
      },
      "execution_count": 39,
      "outputs": [
        {
          "output_type": "stream",
          "name": "stdout",
          "text": [
            "        Ventas  Remodelacion  Movimiento_mercado\n",
            "YrSold                                          \n",
            "2006       311            96                 407\n",
            "2007       325            73                 398\n",
            "2008       300            39                 339\n",
            "2009       334            23                 357\n",
            "2010       174             6                 180\n"
          ]
        }
      ]
    },
    {
      "cell_type": "markdown",
      "source": [
        "El año con mas movimiento inmobiliario fue el 2006 ya que en su totalidad hubo 407 movimientos, de los cuales 311 fueron ventas y 96 fueron remodelaciones de vivienda"
      ],
      "metadata": {
        "id": "XQJG6gtmKfll"
      }
    },
    {
      "cell_type": "markdown",
      "metadata": {
        "id": "jXi2WGp9cvGR"
      },
      "source": [
        "**¿Cuáles son los 2 barrios con mayor industria cerca?**"
      ]
    },
    {
      "cell_type": "code",
      "execution_count": 40,
      "metadata": {
        "id": "c2I1GhCpcvGR",
        "outputId": "116d6e70-f105-40e1-d186-43fcdeaa3957",
        "colab": {
          "base_uri": "https://localhost:8080/"
        }
      },
      "outputs": [
        {
          "output_type": "execute_result",
          "data": {
            "text/plain": [
              "MSZoning\n",
              "C (all)      10\n",
              "FV           62\n",
              "RH           16\n",
              "RL         1139\n",
              "RM          217\n",
              "dtype: int64"
            ]
          },
          "metadata": {},
          "execution_count": 40
        }
      ],
      "source": [
        "df.groupby(\"MSZoning\").size()"
      ]
    },
    {
      "cell_type": "markdown",
      "source": [
        "Como podemos observar en la tabla anterior no tenemos informacion acerca de barrios que se encuentren en areas industriales, por tanto ningun barrio tiene mayor industria cerca, pues estan localizadosen zonas no industriales segun el dataframe analizado"
      ],
      "metadata": {
        "id": "S235xai1KnaK"
      }
    },
    {
      "cell_type": "markdown",
      "metadata": {
        "id": "nC0GTqd4cvGR"
      },
      "source": [
        "**¿Cuáles son los 2 barrios con mayor comercio cerca?**"
      ]
    },
    {
      "cell_type": "code",
      "execution_count": 41,
      "metadata": {
        "id": "5f6PgRTGcvGR",
        "outputId": "49e3c68d-8ade-4eef-ef74-2a88904735b3",
        "colab": {
          "base_uri": "https://localhost:8080/",
          "height": 239
        }
      },
      "outputs": [
        {
          "output_type": "execute_result",
          "data": {
            "text/plain": [
              "Neighborhood   Blmngtn   Blueste    BrDale    BrkSide   CollgCr   Crawfor  \\\n",
              "MSZoning                                                                    \n",
              "RH            0.000000  0.000000  0.000000   0.000000  0.000000  0.858369   \n",
              "RM            0.429185  0.858369  6.437768  12.875536  4.291845  1.287554   \n",
              "All           0.429185  0.858369  6.437768  12.875536  4.291845  2.145923   \n",
              "\n",
              "Neighborhood   Edwards     IDOTRR   MeadowV   Mitchel     NAmes   NridgHt  \\\n",
              "MSZoning                                                                    \n",
              "RH            0.858369   0.000000  0.000000  0.000000  0.858369  0.000000   \n",
              "RM            3.433476  12.017167  7.296137  2.145923  0.000000  0.429185   \n",
              "All           4.291845  12.017167  7.296137  2.145923  0.858369  0.429185   \n",
              "\n",
              "Neighborhood    OldTown     SWISU    Sawyer   SawyerW         All  \n",
              "MSZoning                                                           \n",
              "RH             0.000000  2.145923  0.000000  2.145923    6.866953  \n",
              "RM            40.772532  0.000000  0.858369  0.000000   93.133047  \n",
              "All           40.772532  2.145923  0.858369  2.145923  100.000000  "
            ],
            "text/html": [
              "\n",
              "  <div id=\"df-57eb6721-24a3-4e09-af5a-65a7752c33f3\">\n",
              "    <div class=\"colab-df-container\">\n",
              "      <div>\n",
              "<style scoped>\n",
              "    .dataframe tbody tr th:only-of-type {\n",
              "        vertical-align: middle;\n",
              "    }\n",
              "\n",
              "    .dataframe tbody tr th {\n",
              "        vertical-align: top;\n",
              "    }\n",
              "\n",
              "    .dataframe thead th {\n",
              "        text-align: right;\n",
              "    }\n",
              "</style>\n",
              "<table border=\"1\" class=\"dataframe\">\n",
              "  <thead>\n",
              "    <tr style=\"text-align: right;\">\n",
              "      <th>Neighborhood</th>\n",
              "      <th>Blmngtn</th>\n",
              "      <th>Blueste</th>\n",
              "      <th>BrDale</th>\n",
              "      <th>BrkSide</th>\n",
              "      <th>CollgCr</th>\n",
              "      <th>Crawfor</th>\n",
              "      <th>Edwards</th>\n",
              "      <th>IDOTRR</th>\n",
              "      <th>MeadowV</th>\n",
              "      <th>Mitchel</th>\n",
              "      <th>NAmes</th>\n",
              "      <th>NridgHt</th>\n",
              "      <th>OldTown</th>\n",
              "      <th>SWISU</th>\n",
              "      <th>Sawyer</th>\n",
              "      <th>SawyerW</th>\n",
              "      <th>All</th>\n",
              "    </tr>\n",
              "    <tr>\n",
              "      <th>MSZoning</th>\n",
              "      <th></th>\n",
              "      <th></th>\n",
              "      <th></th>\n",
              "      <th></th>\n",
              "      <th></th>\n",
              "      <th></th>\n",
              "      <th></th>\n",
              "      <th></th>\n",
              "      <th></th>\n",
              "      <th></th>\n",
              "      <th></th>\n",
              "      <th></th>\n",
              "      <th></th>\n",
              "      <th></th>\n",
              "      <th></th>\n",
              "      <th></th>\n",
              "      <th></th>\n",
              "    </tr>\n",
              "  </thead>\n",
              "  <tbody>\n",
              "    <tr>\n",
              "      <th>RH</th>\n",
              "      <td>0.000000</td>\n",
              "      <td>0.000000</td>\n",
              "      <td>0.000000</td>\n",
              "      <td>0.000000</td>\n",
              "      <td>0.000000</td>\n",
              "      <td>0.858369</td>\n",
              "      <td>0.858369</td>\n",
              "      <td>0.000000</td>\n",
              "      <td>0.000000</td>\n",
              "      <td>0.000000</td>\n",
              "      <td>0.858369</td>\n",
              "      <td>0.000000</td>\n",
              "      <td>0.000000</td>\n",
              "      <td>2.145923</td>\n",
              "      <td>0.000000</td>\n",
              "      <td>2.145923</td>\n",
              "      <td>6.866953</td>\n",
              "    </tr>\n",
              "    <tr>\n",
              "      <th>RM</th>\n",
              "      <td>0.429185</td>\n",
              "      <td>0.858369</td>\n",
              "      <td>6.437768</td>\n",
              "      <td>12.875536</td>\n",
              "      <td>4.291845</td>\n",
              "      <td>1.287554</td>\n",
              "      <td>3.433476</td>\n",
              "      <td>12.017167</td>\n",
              "      <td>7.296137</td>\n",
              "      <td>2.145923</td>\n",
              "      <td>0.000000</td>\n",
              "      <td>0.429185</td>\n",
              "      <td>40.772532</td>\n",
              "      <td>0.000000</td>\n",
              "      <td>0.858369</td>\n",
              "      <td>0.000000</td>\n",
              "      <td>93.133047</td>\n",
              "    </tr>\n",
              "    <tr>\n",
              "      <th>All</th>\n",
              "      <td>0.429185</td>\n",
              "      <td>0.858369</td>\n",
              "      <td>6.437768</td>\n",
              "      <td>12.875536</td>\n",
              "      <td>4.291845</td>\n",
              "      <td>2.145923</td>\n",
              "      <td>4.291845</td>\n",
              "      <td>12.017167</td>\n",
              "      <td>7.296137</td>\n",
              "      <td>2.145923</td>\n",
              "      <td>0.858369</td>\n",
              "      <td>0.429185</td>\n",
              "      <td>40.772532</td>\n",
              "      <td>2.145923</td>\n",
              "      <td>0.858369</td>\n",
              "      <td>2.145923</td>\n",
              "      <td>100.000000</td>\n",
              "    </tr>\n",
              "  </tbody>\n",
              "</table>\n",
              "</div>\n",
              "      <button class=\"colab-df-convert\" onclick=\"convertToInteractive('df-57eb6721-24a3-4e09-af5a-65a7752c33f3')\"\n",
              "              title=\"Convert this dataframe to an interactive table.\"\n",
              "              style=\"display:none;\">\n",
              "        \n",
              "  <svg xmlns=\"http://www.w3.org/2000/svg\" height=\"24px\"viewBox=\"0 0 24 24\"\n",
              "       width=\"24px\">\n",
              "    <path d=\"M0 0h24v24H0V0z\" fill=\"none\"/>\n",
              "    <path d=\"M18.56 5.44l.94 2.06.94-2.06 2.06-.94-2.06-.94-.94-2.06-.94 2.06-2.06.94zm-11 1L8.5 8.5l.94-2.06 2.06-.94-2.06-.94L8.5 2.5l-.94 2.06-2.06.94zm10 10l.94 2.06.94-2.06 2.06-.94-2.06-.94-.94-2.06-.94 2.06-2.06.94z\"/><path d=\"M17.41 7.96l-1.37-1.37c-.4-.4-.92-.59-1.43-.59-.52 0-1.04.2-1.43.59L10.3 9.45l-7.72 7.72c-.78.78-.78 2.05 0 2.83L4 21.41c.39.39.9.59 1.41.59.51 0 1.02-.2 1.41-.59l7.78-7.78 2.81-2.81c.8-.78.8-2.07 0-2.86zM5.41 20L4 18.59l7.72-7.72 1.47 1.35L5.41 20z\"/>\n",
              "  </svg>\n",
              "      </button>\n",
              "      \n",
              "  <style>\n",
              "    .colab-df-container {\n",
              "      display:flex;\n",
              "      flex-wrap:wrap;\n",
              "      gap: 12px;\n",
              "    }\n",
              "\n",
              "    .colab-df-convert {\n",
              "      background-color: #E8F0FE;\n",
              "      border: none;\n",
              "      border-radius: 50%;\n",
              "      cursor: pointer;\n",
              "      display: none;\n",
              "      fill: #1967D2;\n",
              "      height: 32px;\n",
              "      padding: 0 0 0 0;\n",
              "      width: 32px;\n",
              "    }\n",
              "\n",
              "    .colab-df-convert:hover {\n",
              "      background-color: #E2EBFA;\n",
              "      box-shadow: 0px 1px 2px rgba(60, 64, 67, 0.3), 0px 1px 3px 1px rgba(60, 64, 67, 0.15);\n",
              "      fill: #174EA6;\n",
              "    }\n",
              "\n",
              "    [theme=dark] .colab-df-convert {\n",
              "      background-color: #3B4455;\n",
              "      fill: #D2E3FC;\n",
              "    }\n",
              "\n",
              "    [theme=dark] .colab-df-convert:hover {\n",
              "      background-color: #434B5C;\n",
              "      box-shadow: 0px 1px 3px 1px rgba(0, 0, 0, 0.15);\n",
              "      filter: drop-shadow(0px 1px 2px rgba(0, 0, 0, 0.3));\n",
              "      fill: #FFFFFF;\n",
              "    }\n",
              "  </style>\n",
              "\n",
              "      <script>\n",
              "        const buttonEl =\n",
              "          document.querySelector('#df-57eb6721-24a3-4e09-af5a-65a7752c33f3 button.colab-df-convert');\n",
              "        buttonEl.style.display =\n",
              "          google.colab.kernel.accessAllowed ? 'block' : 'none';\n",
              "\n",
              "        async function convertToInteractive(key) {\n",
              "          const element = document.querySelector('#df-57eb6721-24a3-4e09-af5a-65a7752c33f3');\n",
              "          const dataTable =\n",
              "            await google.colab.kernel.invokeFunction('convertToInteractive',\n",
              "                                                     [key], {});\n",
              "          if (!dataTable) return;\n",
              "\n",
              "          const docLinkHtml = 'Like what you see? Visit the ' +\n",
              "            '<a target=\"_blank\" href=https://colab.research.google.com/notebooks/data_table.ipynb>data table notebook</a>'\n",
              "            + ' to learn more about interactive tables.';\n",
              "          element.innerHTML = '';\n",
              "          dataTable['output_type'] = 'display_data';\n",
              "          await google.colab.output.renderOutput(dataTable, element);\n",
              "          const docLink = document.createElement('div');\n",
              "          docLink.innerHTML = docLinkHtml;\n",
              "          element.appendChild(docLink);\n",
              "        }\n",
              "      </script>\n",
              "    </div>\n",
              "  </div>\n",
              "  "
            ]
          },
          "metadata": {},
          "execution_count": 41
        }
      ],
      "source": [
        "Zona_mayor_densidad = df[df.MSZoning.str.contains('RH|RM')]\n",
        "Zona_mayor_densidad = pd.crosstab(index=Zona_mayor_densidad['MSZoning'], columns=Zona_mayor_densidad[\"Neighborhood\"],\n",
        "                                        margins=True).apply(lambda r: r/len(Zona_mayor_densidad)*100,axis=1)\n",
        "Zona_mayor_densidad"
      ]
    },
    {
      "cell_type": "markdown",
      "source": [
        "Para resolver este ejercicio se plantea el siguiente supuesto, a mayor densidad poblacional de un barrio mayor comercio necesitara para abastecer todas sus demandas. Por tanto el barrio con mayor comercio cerca sera el de mayor proporcion de zonas densamente pobladas. Por consiguiente los dos barrios con mayor comercio son OldTown y BrkSide."
      ],
      "metadata": {
        "id": "1MHafvPEKw-Z"
      }
    }
  ],
  "metadata": {
    "colab": {
      "collapsed_sections": [],
      "name": "solution.ipynb",
      "provenance": [],
      "include_colab_link": true
    },
    "kernelspec": {
      "display_name": "Python 3",
      "language": "python",
      "name": "python3"
    },
    "language_info": {
      "codemirror_mode": {
        "name": "ipython",
        "version": 3
      },
      "file_extension": ".py",
      "mimetype": "text/x-python",
      "name": "python",
      "nbconvert_exporter": "python",
      "pygments_lexer": "ipython3",
      "version": "3.7.7"
    }
  },
  "nbformat": 4,
  "nbformat_minor": 0
}